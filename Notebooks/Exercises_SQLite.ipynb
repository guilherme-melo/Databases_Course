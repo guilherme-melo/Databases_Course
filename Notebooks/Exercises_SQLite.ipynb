{
 "cells": [
  {
   "cell_type": "markdown",
   "metadata": {},
   "source": [
    "## Introduction to Databases\n",
    "\n",
    "### SQLite exercises "
   ]
  },
  {
   "cell_type": "markdown",
   "metadata": {},
   "source": [
    "!pip install tabulate"
   ]
  },
  {
   "cell_type": "code",
   "execution_count": 34,
   "metadata": {},
   "outputs": [],
   "source": [
    "import os\n",
    "import sys\n",
    "import time\n",
    "import datetime\n",
    "import numpy as np\n",
    "import pandas as pd\n",
    "import tabulate as tabulate\n",
    "\n",
    "\n",
    "\n",
    "import sqlite3"
   ]
  },
  {
   "cell_type": "markdown",
   "metadata": {},
   "source": [
    "![Db Schema](../Figs/database-model.gif)"
   ]
  },
  {
   "cell_type": "markdown",
   "metadata": {},
   "source": [
    "### Establishing a connection"
   ]
  },
  {
   "cell_type": "code",
   "execution_count": 35,
   "metadata": {},
   "outputs": [],
   "source": [
    "conn = sqlite3.connect(os.path.join(\"..\",\"SampleDBs\",'hr.sqlite'))\n",
    "cur = conn.cursor()"
   ]
  },
  {
   "cell_type": "code",
   "execution_count": 36,
   "metadata": {},
   "outputs": [
    {
     "name": "stdout",
     "output_type": "stream",
     "text": [
      "[('countries',), ('regions',), ('locations',), ('departments',), ('jobs',), ('employees',), ('department',), ('job_history',), ('prod_mast',), ('prod_backup',), ('orders',), ('tb1',), ('ESERCICIO1',), ('users',), ('tags',), ('s',), ('r',), ('Emor',), ('MIN_SALARY',), ('employee_data',), ('STUDENT',), ('EMPLOYEE_INCOME',), ('details',)]\n"
     ]
    }
   ],
   "source": [
    "cur.execute(\"SELECT name FROM sqlite_master WHERE type='table';\")\n",
    "print(cur.fetchall())"
   ]
  },
  {
   "cell_type": "code",
   "execution_count": 37,
   "metadata": {},
   "outputs": [
    {
     "name": "stdout",
     "output_type": "stream",
     "text": [
      "---------------\n",
      "countries\n",
      "regions\n",
      "locations\n",
      "departments\n",
      "jobs\n",
      "employees\n",
      "department\n",
      "job_history\n",
      "prod_mast\n",
      "prod_backup\n",
      "orders\n",
      "tb1\n",
      "ESERCICIO1\n",
      "users\n",
      "tags\n",
      "s\n",
      "r\n",
      "Emor\n",
      "MIN_SALARY\n",
      "employee_data\n",
      "STUDENT\n",
      "EMPLOYEE_INCOME\n",
      "details\n",
      "---------------\n"
     ]
    }
   ],
   "source": [
    "cur.execute(\"SELECT name FROM sqlite_master WHERE type='table';\")\n",
    "print(tabulate.tabulate(cur.fetchall()))"
   ]
  },
  {
   "cell_type": "code",
   "execution_count": 38,
   "metadata": {},
   "outputs": [
    {
     "name": "stdout",
     "output_type": "stream",
     "text": [
      "('countries',)\n",
      "('regions',)\n",
      "('locations',)\n",
      "('departments',)\n",
      "('jobs',)\n",
      "('employees',)\n",
      "('department',)\n",
      "('job_history',)\n",
      "('prod_mast',)\n",
      "('prod_backup',)\n",
      "('orders',)\n",
      "('tb1',)\n",
      "('ESERCICIO1',)\n",
      "('users',)\n",
      "('tags',)\n",
      "('s',)\n",
      "('r',)\n",
      "('Emor',)\n",
      "('MIN_SALARY',)\n",
      "('employee_data',)\n",
      "('STUDENT',)\n",
      "('EMPLOYEE_INCOME',)\n",
      "('details',)\n"
     ]
    }
   ],
   "source": [
    "cur.execute(\"SELECT name FROM sqlite_master WHERE type='table';\")\n",
    "for res in cur.fetchall():\n",
    "    print(res)"
   ]
  },
  {
   "cell_type": "code",
   "execution_count": 39,
   "metadata": {},
   "outputs": [
    {
     "data": {
      "text/html": [
       "<div>\n",
       "<style scoped>\n",
       "    .dataframe tbody tr th:only-of-type {\n",
       "        vertical-align: middle;\n",
       "    }\n",
       "\n",
       "    .dataframe tbody tr th {\n",
       "        vertical-align: top;\n",
       "    }\n",
       "\n",
       "    .dataframe thead th {\n",
       "        text-align: right;\n",
       "    }\n",
       "</style>\n",
       "<table border=\"1\" class=\"dataframe\">\n",
       "  <thead>\n",
       "    <tr style=\"text-align: right;\">\n",
       "      <th></th>\n",
       "      <th>name</th>\n",
       "    </tr>\n",
       "  </thead>\n",
       "  <tbody>\n",
       "    <tr>\n",
       "      <th>0</th>\n",
       "      <td>countries</td>\n",
       "    </tr>\n",
       "    <tr>\n",
       "      <th>1</th>\n",
       "      <td>regions</td>\n",
       "    </tr>\n",
       "    <tr>\n",
       "      <th>2</th>\n",
       "      <td>locations</td>\n",
       "    </tr>\n",
       "    <tr>\n",
       "      <th>3</th>\n",
       "      <td>departments</td>\n",
       "    </tr>\n",
       "    <tr>\n",
       "      <th>4</th>\n",
       "      <td>jobs</td>\n",
       "    </tr>\n",
       "    <tr>\n",
       "      <th>5</th>\n",
       "      <td>employees</td>\n",
       "    </tr>\n",
       "    <tr>\n",
       "      <th>6</th>\n",
       "      <td>department</td>\n",
       "    </tr>\n",
       "    <tr>\n",
       "      <th>7</th>\n",
       "      <td>job_history</td>\n",
       "    </tr>\n",
       "    <tr>\n",
       "      <th>8</th>\n",
       "      <td>prod_mast</td>\n",
       "    </tr>\n",
       "    <tr>\n",
       "      <th>9</th>\n",
       "      <td>prod_backup</td>\n",
       "    </tr>\n",
       "  </tbody>\n",
       "</table>\n",
       "</div>"
      ],
      "text/plain": [
       "          name\n",
       "0    countries\n",
       "1      regions\n",
       "2    locations\n",
       "3  departments\n",
       "4         jobs\n",
       "5    employees\n",
       "6   department\n",
       "7  job_history\n",
       "8    prod_mast\n",
       "9  prod_backup"
      ]
     },
     "execution_count": 39,
     "metadata": {},
     "output_type": "execute_result"
    }
   ],
   "source": [
    "df = pd.read_sql(\"SELECT name FROM sqlite_master WHERE type='table';\", conn)\n",
    "df.head(10)"
   ]
  },
  {
   "cell_type": "markdown",
   "metadata": {},
   "source": [
    "### SQL Questions"
   ]
  },
  {
   "cell_type": "markdown",
   "metadata": {},
   "source": [
    "+ Write a query to display the names (first_name, last_name) using alias name \"First Name\", \"Last Name\" on the table \"employees\"  "
   ]
  },
  {
   "cell_type": "code",
   "execution_count": 40,
   "metadata": {},
   "outputs": [
    {
     "name": "stdout",
     "output_type": "stream",
     "text": [
      "-----------  -----------\n",
      "Steven       King\n",
      "Neena        Kochhar\n",
      "Lex          De Haan\n",
      "Alexander    Hunold\n",
      "Bruce        Ernst\n",
      "David        Austin\n",
      "Valli        Pataballa\n",
      "Diana        Lorentz\n",
      "Nancy        Greenberg\n",
      "Daniel       Faviet\n",
      "John         Chen\n",
      "Ismael       Sciarra\n",
      "Jose Manuel  Urman\n",
      "Luis         Popp\n",
      "Den          Raphaely\n",
      "Alexander    Khoo\n",
      "Shelli       Baida\n",
      "Sigal        Tobias\n",
      "Guy          Himuro\n",
      "Karen        Colmenares\n",
      "Matthew      Weiss\n",
      "Adam         Fripp\n",
      "Payam        Kaufling\n",
      "Shanta       Vollman\n",
      "Kevin        Mourgos\n",
      "Julia        Nayer\n",
      "Irene        Mikkilineni\n",
      "James        Landry\n",
      "Steven       Markle\n",
      "Laura        Bissot\n",
      "Mozhe        Atkinson\n",
      "James        Marlow\n",
      "TJ           Olson\n",
      "Jason        Mallin\n",
      "Michael      Rogers\n",
      "Ki           Gee\n",
      "Hazel        Philtanker\n",
      "Renske       Ladwig\n",
      "Stephen      Stiles\n",
      "John         Seo\n",
      "Joshua       Patel\n",
      "Trenna       Rajs\n",
      "Curtis       Davies\n",
      "Randall      Matos\n",
      "Peter        Vargas\n",
      "John         Russell\n",
      "Karen        Partners\n",
      "Alberto      Errazuriz\n",
      "Gerald       Cambrault\n",
      "Eleni        Zlotkey\n",
      "Peter        Tucker\n",
      "David        Bernstein\n",
      "Peter        Hall\n",
      "Christopher  Olsen\n",
      "Nanette      Cambrault\n",
      "Oliver       Tuvault\n",
      "Janette      King\n",
      "Patrick      Sully\n",
      "Allan        McEwen\n",
      "Lindsey      Smith\n",
      "Louise       Doran\n",
      "Sarath       Sewall\n",
      "Clara        Vishney\n",
      "Danielle     Greene\n",
      "Mattea       Marvins\n",
      "David        Lee\n",
      "Sundar       Ande\n",
      "Amit         Banda\n",
      "Lisa         Ozer\n",
      "Harrison     Bloom\n",
      "Tayler       Fox\n",
      "William      Smith\n",
      "Elizabeth    Bates\n",
      "Sundita      Kumar\n",
      "Ellen        Abel\n",
      "Alyssa       Hutton\n",
      "Jonathon     Taylor\n",
      "Jack         Livingston\n",
      "Kimberely    Grant\n",
      "Charles      Johnson\n",
      "Winston      Taylor\n",
      "Jean         Fleaur\n",
      "Martha       Sullivan\n",
      "Girard       Geoni\n",
      "Nandita      Sarchand\n",
      "Alexis       Bull\n",
      "Julia        Dellinger\n",
      "Anthony      Cabrio\n",
      "Kelly        Chung\n",
      "Jennifer     Dilly\n",
      "Timothy      Gates\n",
      "Randall      Perkins\n",
      "Sarah        Bell\n",
      "Britney      Everett\n",
      "Samuel       McCain\n",
      "Vance        Jones\n",
      "Alana        Walsh\n",
      "Kevin        Feeney\n",
      "Donald       OConnell\n",
      "Douglas      Grant\n",
      "Jennifer     Whalen\n",
      "Michael      Hartstein\n",
      "Pat          Fay\n",
      "Susan        Mavris\n",
      "Hermann      Baer\n",
      "Shelley      Higgins\n",
      "William      Gietz\n",
      "-----------  -----------\n"
     ]
    }
   ],
   "source": [
    "cur.execute(\"SELECT first_name AS 'First Name' ,  last_name AS 'Last Name'  FROM employees;\")\n",
    "print(tabulate.tabulate(cur.fetchall()))"
   ]
  },
  {
   "cell_type": "markdown",
   "metadata": {},
   "source": [
    "+ Write a query to get unique department ID on the table \"employees\"  "
   ]
  },
  {
   "cell_type": "code",
   "execution_count": 41,
   "metadata": {},
   "outputs": [
    {
     "name": "stdout",
     "output_type": "stream",
     "text": [
      "---\n",
      " 90\n",
      " 60\n",
      "100\n",
      " 30\n",
      " 50\n",
      " 80\n",
      "  0\n",
      " 10\n",
      " 20\n",
      " 40\n",
      " 70\n",
      "110\n",
      "---\n"
     ]
    }
   ],
   "source": [
    "cur.execute(\"SELECT DISTINCT department_id FROM employees;\")\n",
    "print(tabulate.tabulate(cur.fetchall()))"
   ]
  },
  {
   "cell_type": "markdown",
   "metadata": {},
   "source": [
    "+ Write a query to get all employee details from the employee table order by first name, descending on the table \"employees\"  "
   ]
  },
  {
   "cell_type": "code",
   "execution_count": 42,
   "metadata": {},
   "outputs": [
    {
     "name": "stdout",
     "output_type": "stream",
     "text": [
      "---  -----------  -----------  --------  ------------------  ----------  ----------  -----  ----  ---  ---\n",
      "180  Winston      Taylor       WTAYLOR   650.507.9876        1987-09-05  SH_CLERK     3200  0     120   50\n",
      "171  William      Smith        WSMITH    011.44.1343.629268  1987-08-27  SA_REP       7400  0.15  148   80\n",
      "206  William      Gietz        WGIETZ    515.123.8181        1987-10-01  AC_ACCOUNT   8300  1     205  110\n",
      "195  Vance        Jones        VJONES    650.501.4876        1987-09-20  SH_CLERK     2800  0     123   50\n",
      "106  Valli        Pataballa    VPATABAL  590.423.4560        1987-06-23  IT_PROG      4800  0     103   60\n",
      "141  Trenna       Rajs         TRAJS     650.121.8009        1987-07-28  ST_CLERK     3500  0     124   50\n",
      "190  Timothy      Gates        TGATES    650.505.3876        1987-09-15  SH_CLERK     2900  0     122   50\n",
      "170  Tayler       Fox          TFOX      011.44.1343.729268  1987-08-26  SA_REP       9600  0.2   148   80\n",
      "132  TJ           Olson        TJOLSON   650.124.8234        1987-07-19  ST_CLERK     2100  0     121   50\n",
      "203  Susan        Mavris       SMAVRIS   515.123.7777        1987-09-28  HR_REP       6500  0     101   40\n",
      "173  Sundita      Kumar        SKUMAR    011.44.1343.329268  1987-08-29  SA_REP       6100  0.1   148   80\n",
      "166  Sundar       Ande         SANDE     011.44.1346.629268  1987-08-22  SA_REP       6400  0.1   147   80\n",
      "100  Steven       King         SKING     515.123.4567        1987-06-17  AD_PRES     24000  0       0   90\n",
      "128  Steven       Markle       SMARKLE   650.124.1434        1987-07-15  ST_CLERK     2200  0     120   50\n",
      "138  Stephen      Stiles       SSTILES   650.121.2034        1987-07-25  ST_CLERK     3200  0     123   50\n",
      "117  Sigal        Tobias       STOBIAS   515.127.4564        1987-07-04  PU_CLERK     2800  0     114   30\n",
      "116  Shelli       Baida        SBAIDA    515.127.4563        1987-07-03  PU_CLERK     2900  0     114   30\n",
      "205  Shelley      Higgins      SHIGGINS  515.123.8080        1987-09-30  AC_MGR      12000  1     101  110\n",
      "123  Shanta       Vollman      SVOLLMAN  650.123.4234        1987-07-10  ST_MAN       6500  0     100   50\n",
      "161  Sarath       Sewall       SSEWALL   011.44.1345.529268  1987-08-17  SA_REP       7000  0.25  146   80\n",
      "192  Sarah        Bell         SBELL     650.501.1876        1987-09-17  SH_CLERK     4000  0     123   50\n",
      "194  Samuel       McCain       SMCCAIN   650.501.3876        1987-09-19  SH_CLERK     3200  0     123   50\n",
      "137  Renske       Ladwig       RLADWIG   650.121.1234        1987-07-24  ST_CLERK     3600  0     123   50\n",
      "143  Randall      Matos        RMATOS    650.121.2874        1987-07-30  ST_CLERK     2600  0     124   50\n",
      "191  Randall      Perkins      RPERKINS  650.505.4876        1987-09-16  SH_CLERK     2500  0     122   50\n",
      "144  Peter        Vargas       PVARGAS   650.121.2004        1987-07-31  ST_CLERK     2500  0     124   50\n",
      "150  Peter        Tucker       PTUCKER   011.44.1344.129268  1987-08-06  SA_REP      10000  0.3   145   80\n",
      "152  Peter        Hall         PHALL     011.44.1344.478968  1987-08-08  SA_REP       9000  0.25  145   80\n",
      "122  Payam        Kaufling     PKAUFLIN  650.123.3234        1987-07-09  ST_MAN       7900  0     100   50\n",
      "157  Patrick      Sully        PSULLY    011.44.1345.929268  1987-08-13  SA_REP       9500  0.35  146   80\n",
      "202  Pat          Fay          PFAY      603.123.6666        1987-09-27  MK_REP       6000  0     201   20\n",
      "155  Oliver       Tuvault      OTUVAULT  011.44.1344.486508  1987-08-11  SA_REP       7000  0.15  145   80\n",
      "101  Neena        Kochhar      NKOCHHAR  515.123.4568        1987-06-18  AD_VP       17000  0     100   90\n",
      "154  Nanette      Cambrault    NCAMBRAU  011.44.1344.987668  1987-08-10  SA_REP       7500  0.2   145   80\n",
      "184  Nandita      Sarchand     NSARCHAN  650.509.1876        1987-09-09  SH_CLERK     4200  0     121   50\n",
      "108  Nancy        Greenberg    NGREENBE  515.124.4569        1987-06-25  FI_MGR      12000  0     101  100\n",
      "130  Mozhe        Atkinson     MATKINSO  650.124.6234        1987-07-17  ST_CLERK     2800  0     121   50\n",
      "134  Michael      Rogers       MROGERS   650.127.1834        1987-07-21  ST_CLERK     2900  0     122   50\n",
      "201  Michael      Hartstein    MHARTSTE  515.123.5555        1987-09-26  MK_MAN      13000  0     100   20\n",
      "120  Matthew      Weiss        MWEISS    650.123.1234        1987-07-07  ST_MAN       8000  0     100   50\n",
      "164  Mattea       Marvins      MMARVINS  011.44.1346.329268  1987-08-20  SA_REP       7200  0.1   147   80\n",
      "182  Martha       Sullivan     MSULLIVA  650.507.9878        1987-09-07  SH_CLERK     2500  0     120   50\n",
      "113  Luis         Popp         LPOPP     515.124.4567        1987-06-30  FI_ACCOUNT   6900  0     108  100\n",
      "160  Louise       Doran        LDORAN    011.44.1345.629268  1987-08-16  SA_REP       7500  0.3   146   80\n",
      "168  Lisa         Ozer         LOZER     011.44.1343.929268  1987-08-24  SA_REP      11500  0.25  148   80\n",
      "159  Lindsey      Smith        LSMITH    011.44.1345.729268  1987-08-15  SA_REP       8000  0.3   146   80\n",
      "102  Lex          De Haan      LDEHAAN   515.123.4569        1987-06-19  AD_VP       17000  0     100   90\n",
      "129  Laura        Bissot       LBISSOT   650.124.5234        1987-07-16  ST_CLERK     3300  0     121   50\n",
      "178  Kimberely    Grant        KGRANT    011.44.1644.429263  1987-09-03  SA_REP       7000  0.15  149    0\n",
      "135  Ki           Gee          KGEE      650.127.1734        1987-07-22  ST_CLERK     2400  0     122   50\n",
      "124  Kevin        Mourgos      KMOURGOS  650.123.5234        1987-07-11  ST_MAN       5800  0     100   50\n",
      "197  Kevin        Feeney       KFEENEY   650.507.9822        1987-09-22  SH_CLERK     3000  0     124   50\n",
      "188  Kelly        Chung        KCHUNG    650.505.1876        1987-09-13  SH_CLERK     3800  0     122   50\n",
      "119  Karen        Colmenares   KCOLMENA  515.127.4566        1987-07-06  PU_CLERK     2500  0     114   30\n",
      "146  Karen        Partners     KPARTNER  011.44.1344.467268  1987-08-02  SA_MAN      13500  0.3   100   80\n",
      "125  Julia        Nayer        JNAYER    650.124.1214        1987-07-12  ST_CLERK     3200  0     120   50\n",
      "186  Julia        Dellinger    JDELLING  650.509.3876        1987-09-11  SH_CLERK     3400  0     121   50\n",
      "140  Joshua       Patel        JPATEL    650.121.1834        1987-07-27  ST_CLERK     2500  0     123   50\n",
      "112  Jose Manuel  Urman        JMURMAN   515.124.4469        1987-06-29  FI_ACCOUNT   7800  0     108  100\n",
      "176  Jonathon     Taylor       JTAYLOR   011.44.1644.429265  1987-09-01  SA_REP       8600  0.2   149   80\n",
      "110  John         Chen         JCHEN     515.124.4269        1987-06-27  FI_ACCOUNT   8200  0     108  100\n",
      "139  John         Seo          JSEO      650.121.2019        1987-07-26  ST_CLERK     2700  0     123   50\n",
      "145  John         Russell      JRUSSEL   011.44.1344.429268  1987-08-01  SA_MAN      14000  0.4   100   80\n",
      "189  Jennifer     Dilly        JDILLY    650.505.2876        1987-09-14  SH_CLERK     3600  0     122   50\n",
      "200  Jennifer     Whalen       JWHALEN   515.123.4444        1987-09-25  AD_ASST      4400  0     101   10\n",
      "181  Jean         Fleaur       JFLEAUR   650.507.9877        1987-09-06  SH_CLERK     3100  0     120   50\n",
      "133  Jason        Mallin       JMALLIN   650.127.1934        1987-07-20  ST_CLERK     3300  0     122   50\n",
      "156  Janette      King         JKING     011.44.1345.429268  1987-08-12  SA_REP      10000  0.35  146   80\n",
      "127  James        Landry       JLANDRY   650.124.1334        1987-07-14  ST_CLERK     2400  0     120   50\n",
      "131  James        Marlow       JAMRLOW   650.124.7234        1987-07-18  ST_CLERK     2500  0     121   50\n",
      "177  Jack         Livingston   JLIVINGS  011.44.1644.429264  1987-09-02  SA_REP       8400  0.2   149   80\n",
      "111  Ismael       Sciarra      ISCIARRA  515.124.4369        1987-06-28  FI_ACCOUNT   7700  0     108  100\n",
      "126  Irene        Mikkilineni  IMIKKILI  650.124.1224        1987-07-13  ST_CLERK     2700  0     120   50\n",
      "204  Hermann      Baer         HBAER     515.123.8888        1987-09-29  PR_REP      10000  0     101   70\n",
      "136  Hazel        Philtanker   HPHILTAN  650.127.1634        1987-07-23  ST_CLERK     2200  0     122   50\n",
      "169  Harrison     Bloom        HBLOOM    011.44.1343.829268  1987-08-25  SA_REP      10000  0.2   148   80\n",
      "118  Guy          Himuro       GHIMURO   515.127.4565        1987-07-05  PU_CLERK     2600  0     114   30\n",
      "183  Girard       Geoni        GGEONI    650.507.9879        1987-09-08  SH_CLERK     2800  0     120   50\n",
      "148  Gerald       Cambrault    GCAMBRAU  011.44.1344.619268  1987-08-04  SA_MAN      11000  0.3   100   80\n",
      "174  Ellen        Abel         EABEL     011.44.1644.429267  1987-08-30  SA_REP      11000  0.3   149   80\n",
      "172  Elizabeth    Bates        EBATES    011.44.1343.529268  1987-08-28  SA_REP       7300  0.15  148   80\n",
      "149  Eleni        Zlotkey      EZLOTKEY  011.44.1344.429018  1987-08-05  SA_MAN      10500  0.2   100   80\n",
      "199  Douglas      Grant        DGRANT    650.507.9844        1987-09-24  SH_CLERK     2600  0     124   50\n",
      "198  Donald       OConnell     DOCONNEL  650.507.9833        1987-09-23  SH_CLERK     2600  0     124   50\n",
      "107  Diana        Lorentz      DLORENTZ  590.423.5567        1987-06-24  IT_PROG      4200  0     103   60\n",
      "114  Den          Raphaely     DRAPHEAL  515.127.4561        1987-07-01  PU_MAN      11000  0     100   30\n",
      "105  David        Austin       DAUSTIN   590.423.4569        1987-06-22  IT_PROG      4800  0     103   60\n",
      "151  David        Bernstein    DBERNSTE  011.44.1344.345268  1987-08-07  SA_REP       9500  0.25  145   80\n",
      "165  David        Lee          DLEE      011.44.1346.529268  1987-08-21  SA_REP       6800  0.1   147   80\n",
      "163  Danielle     Greene       DGREENE   011.44.1346.229268  1987-08-19  SA_REP       9500  0.15  147   80\n",
      "109  Daniel       Faviet       DFAVIET   515.124.4169        1987-06-26  FI_ACCOUNT   9000  0     108  100\n",
      "142  Curtis       Davies       CDAVIES   650.121.2994        1987-07-29  ST_CLERK     3100  0     124   50\n",
      "162  Clara        Vishney      CVISHNEY  011.44.1346.129268  1987-08-18  SA_REP      10500  0.25  147   80\n",
      "153  Christopher  Olsen        COLSEN    011.44.1344.498718  1987-08-09  SA_REP       8000  0.2   145   80\n",
      "179  Charles      Johnson      CJOHNSON  011.44.1644.429262  1987-09-04  SA_REP       6200  0.1   149   80\n",
      "104  Bruce        Ernst        BERNST    590.423.4568        1987-06-21  IT_PROG      6000  0     103   60\n",
      "193  Britney      Everett      BEVERETT  650.501.2876        1987-09-18  SH_CLERK     3900  0     123   50\n",
      "187  Anthony      Cabrio       ACABRIO   650.509.4876        1987-09-12  SH_CLERK     3000  0     121   50\n",
      "167  Amit         Banda        ABANDA    011.44.1346.729268  1987-08-23  SA_REP       6200  0.1   147   80\n",
      "175  Alyssa       Hutton       AHUTTON   011.44.1644.429266  1987-08-31  SA_REP       8800  0.25  149   80\n",
      "158  Allan        McEwen       AMCEWEN   011.44.1345.829268  1987-08-14  SA_REP       9000  0.35  146   80\n",
      "185  Alexis       Bull         ABULL     650.509.2876        1987-09-10  SH_CLERK     4100  0     121   50\n",
      "103  Alexander    Hunold       AHUNOLD   590.423.4567        1987-06-20  IT_PROG      9000  0     102   60\n",
      "115  Alexander    Khoo         AKHOO     515.127.4562        1987-07-02  PU_CLERK     3100  0     114   30\n",
      "147  Alberto      Errazuriz    AERRAZUR  011.44.1344.429278  1987-08-03  SA_MAN      12000  0.3   100   80\n",
      "196  Alana        Walsh        AWALSH    650.507.9811        1987-09-21  SH_CLERK     3100  0     124   50\n",
      "121  Adam         Fripp        AFRIPP    650.123.2234        1987-07-08  ST_MAN       8200  0     100   50\n",
      "---  -----------  -----------  --------  ------------------  ----------  ----------  -----  ----  ---  ---\n"
     ]
    }
   ],
   "source": [
    "cur.execute(\"SELECT * FROM employees ORDER BY first_name DESC;\")\n",
    "print(tabulate.tabulate(cur.fetchall()))"
   ]
  },
  {
   "cell_type": "markdown",
   "metadata": {},
   "source": [
    "+ Write a query to get the names (first_name, last_name), salary, PF of all the employees (PF is calculated as 12% of salary) on the table \"employees\"  "
   ]
  },
  {
   "cell_type": "code",
   "execution_count": 43,
   "metadata": {},
   "outputs": [
    {
     "name": "stdout",
     "output_type": "stream",
     "text": [
      "-----------  -----------  -----  ----\n",
      "Steven       King         24000  2880\n",
      "Neena        Kochhar      17000  2040\n",
      "Lex          De Haan      17000  2040\n",
      "Alexander    Hunold        9000  1080\n",
      "Bruce        Ernst         6000   720\n",
      "David        Austin        4800   576\n",
      "Valli        Pataballa     4800   576\n",
      "Diana        Lorentz       4200   504\n",
      "Nancy        Greenberg    12000  1440\n",
      "Daniel       Faviet        9000  1080\n",
      "John         Chen          8200   984\n",
      "Ismael       Sciarra       7700   924\n",
      "Jose Manuel  Urman         7800   936\n",
      "Luis         Popp          6900   828\n",
      "Den          Raphaely     11000  1320\n",
      "Alexander    Khoo          3100   372\n",
      "Shelli       Baida         2900   348\n",
      "Sigal        Tobias        2800   336\n",
      "Guy          Himuro        2600   312\n",
      "Karen        Colmenares    2500   300\n",
      "Matthew      Weiss         8000   960\n",
      "Adam         Fripp         8200   984\n",
      "Payam        Kaufling      7900   948\n",
      "Shanta       Vollman       6500   780\n",
      "Kevin        Mourgos       5800   696\n",
      "Julia        Nayer         3200   384\n",
      "Irene        Mikkilineni   2700   324\n",
      "James        Landry        2400   288\n",
      "Steven       Markle        2200   264\n",
      "Laura        Bissot        3300   396\n",
      "Mozhe        Atkinson      2800   336\n",
      "James        Marlow        2500   300\n",
      "TJ           Olson         2100   252\n",
      "Jason        Mallin        3300   396\n",
      "Michael      Rogers        2900   348\n",
      "Ki           Gee           2400   288\n",
      "Hazel        Philtanker    2200   264\n",
      "Renske       Ladwig        3600   432\n",
      "Stephen      Stiles        3200   384\n",
      "John         Seo           2700   324\n",
      "Joshua       Patel         2500   300\n",
      "Trenna       Rajs          3500   420\n",
      "Curtis       Davies        3100   372\n",
      "Randall      Matos         2600   312\n",
      "Peter        Vargas        2500   300\n",
      "John         Russell      14000  1680\n",
      "Karen        Partners     13500  1620\n",
      "Alberto      Errazuriz    12000  1440\n",
      "Gerald       Cambrault    11000  1320\n",
      "Eleni        Zlotkey      10500  1260\n",
      "Peter        Tucker       10000  1200\n",
      "David        Bernstein     9500  1140\n",
      "Peter        Hall          9000  1080\n",
      "Christopher  Olsen         8000   960\n",
      "Nanette      Cambrault     7500   900\n",
      "Oliver       Tuvault       7000   840\n",
      "Janette      King         10000  1200\n",
      "Patrick      Sully         9500  1140\n",
      "Allan        McEwen        9000  1080\n",
      "Lindsey      Smith         8000   960\n",
      "Louise       Doran         7500   900\n",
      "Sarath       Sewall        7000   840\n",
      "Clara        Vishney      10500  1260\n",
      "Danielle     Greene        9500  1140\n",
      "Mattea       Marvins       7200   864\n",
      "David        Lee           6800   816\n",
      "Sundar       Ande          6400   768\n",
      "Amit         Banda         6200   744\n",
      "Lisa         Ozer         11500  1380\n",
      "Harrison     Bloom        10000  1200\n",
      "Tayler       Fox           9600  1152\n",
      "William      Smith         7400   888\n",
      "Elizabeth    Bates         7300   876\n",
      "Sundita      Kumar         6100   732\n",
      "Ellen        Abel         11000  1320\n",
      "Alyssa       Hutton        8800  1056\n",
      "Jonathon     Taylor        8600  1032\n",
      "Jack         Livingston    8400  1008\n",
      "Kimberely    Grant         7000   840\n",
      "Charles      Johnson       6200   744\n",
      "Winston      Taylor        3200   384\n",
      "Jean         Fleaur        3100   372\n",
      "Martha       Sullivan      2500   300\n",
      "Girard       Geoni         2800   336\n",
      "Nandita      Sarchand      4200   504\n",
      "Alexis       Bull          4100   492\n",
      "Julia        Dellinger     3400   408\n",
      "Anthony      Cabrio        3000   360\n",
      "Kelly        Chung         3800   456\n",
      "Jennifer     Dilly         3600   432\n",
      "Timothy      Gates         2900   348\n",
      "Randall      Perkins       2500   300\n",
      "Sarah        Bell          4000   480\n",
      "Britney      Everett       3900   468\n",
      "Samuel       McCain        3200   384\n",
      "Vance        Jones         2800   336\n",
      "Alana        Walsh         3100   372\n",
      "Kevin        Feeney        3000   360\n",
      "Donald       OConnell      2600   312\n",
      "Douglas      Grant         2600   312\n",
      "Jennifer     Whalen        4400   528\n",
      "Michael      Hartstein    13000  1560\n",
      "Pat          Fay           6000   720\n",
      "Susan        Mavris        6500   780\n",
      "Hermann      Baer         10000  1200\n",
      "Shelley      Higgins      12000  1440\n",
      "William      Gietz         8300   996\n",
      "-----------  -----------  -----  ----\n"
     ]
    }
   ],
   "source": [
    "cur.execute(\"SELECT first_name,last_name,salary,salary*0.12 'PF' FROM employees;\")\n",
    "print(tabulate.tabulate(cur.fetchall()))"
   ]
  },
  {
   "cell_type": "markdown",
   "metadata": {},
   "source": [
    "+ Write a query to get the employee ID, names (first_name, last_name), salary in ascending order of salary on the table \"employees\"  "
   ]
  },
  {
   "cell_type": "code",
   "execution_count": 15,
   "metadata": {},
   "outputs": [
    {
     "name": "stdout",
     "output_type": "stream",
     "text": [
      "-----------  -----------  -----\n",
      "TJ           Olson         2100\n",
      "Steven       Markle        2200\n",
      "Hazel        Philtanker    2200\n",
      "James        Landry        2400\n",
      "Ki           Gee           2400\n",
      "Karen        Colmenares    2500\n",
      "James        Marlow        2500\n",
      "Joshua       Patel         2500\n",
      "Peter        Vargas        2500\n",
      "Martha       Sullivan      2500\n",
      "Randall      Perkins       2500\n",
      "Guy          Himuro        2600\n",
      "Randall      Matos         2600\n",
      "Donald       OConnell      2600\n",
      "Douglas      Grant         2600\n",
      "Irene        Mikkilineni   2700\n",
      "John         Seo           2700\n",
      "Sigal        Tobias        2800\n",
      "Mozhe        Atkinson      2800\n",
      "Girard       Geoni         2800\n",
      "Vance        Jones         2800\n",
      "Shelli       Baida         2900\n",
      "Michael      Rogers        2900\n",
      "Timothy      Gates         2900\n",
      "Anthony      Cabrio        3000\n",
      "Kevin        Feeney        3000\n",
      "Alexander    Khoo          3100\n",
      "Curtis       Davies        3100\n",
      "Jean         Fleaur        3100\n",
      "Alana        Walsh         3100\n",
      "Julia        Nayer         3200\n",
      "Stephen      Stiles        3200\n",
      "Winston      Taylor        3200\n",
      "Samuel       McCain        3200\n",
      "Laura        Bissot        3300\n",
      "Jason        Mallin        3300\n",
      "Julia        Dellinger     3400\n",
      "Trenna       Rajs          3500\n",
      "Renske       Ladwig        3600\n",
      "Jennifer     Dilly         3600\n",
      "Kelly        Chung         3800\n",
      "Britney      Everett       3900\n",
      "Sarah        Bell          4000\n",
      "Alexis       Bull          4100\n",
      "Diana        Lorentz       4200\n",
      "Nandita      Sarchand      4200\n",
      "Jennifer     Whalen        4400\n",
      "David        Austin        4800\n",
      "Valli        Pataballa     4800\n",
      "Kevin        Mourgos       5800\n",
      "Bruce        Ernst         6000\n",
      "Pat          Fay           6000\n",
      "Sundita      Kumar         6100\n",
      "Amit         Banda         6200\n",
      "Charles      Johnson       6200\n",
      "Sundar       Ande          6400\n",
      "Shanta       Vollman       6500\n",
      "Susan        Mavris        6500\n",
      "David        Lee           6800\n",
      "Luis         Popp          6900\n",
      "Oliver       Tuvault       7000\n",
      "Sarath       Sewall        7000\n",
      "Kimberely    Grant         7000\n",
      "Mattea       Marvins       7200\n",
      "Elizabeth    Bates         7300\n",
      "William      Smith         7400\n",
      "Nanette      Cambrault     7500\n",
      "Louise       Doran         7500\n",
      "Ismael       Sciarra       7700\n",
      "Jose Manuel  Urman         7800\n",
      "Payam        Kaufling      7900\n",
      "Matthew      Weiss         8000\n",
      "Christopher  Olsen         8000\n",
      "Lindsey      Smith         8000\n",
      "John         Chen          8200\n",
      "Adam         Fripp         8200\n",
      "William      Gietz         8300\n",
      "Jack         Livingston    8400\n",
      "Jonathon     Taylor        8600\n",
      "Alyssa       Hutton        8800\n",
      "Alexander    Hunold        9000\n",
      "Daniel       Faviet        9000\n",
      "Peter        Hall          9000\n",
      "Allan        McEwen        9000\n",
      "David        Bernstein     9500\n",
      "Patrick      Sully         9500\n",
      "Danielle     Greene        9500\n",
      "Tayler       Fox           9600\n",
      "Peter        Tucker       10000\n",
      "Janette      King         10000\n",
      "Harrison     Bloom        10000\n",
      "Hermann      Baer         10000\n",
      "Eleni        Zlotkey      10500\n",
      "Clara        Vishney      10500\n",
      "Den          Raphaely     11000\n",
      "Gerald       Cambrault    11000\n",
      "Ellen        Abel         11000\n",
      "Lisa         Ozer         11500\n",
      "Nancy        Greenberg    12000\n",
      "Alberto      Errazuriz    12000\n",
      "Shelley      Higgins      12000\n",
      "Michael      Hartstein    13000\n",
      "Karen        Partners     13500\n",
      "John         Russell      14000\n",
      "Neena        Kochhar      17000\n",
      "Lex          De Haan      17000\n",
      "Steven       King         24000\n",
      "-----------  -----------  -----\n"
     ]
    }
   ],
   "source": [
    "cur.execute(\"SELECT first_name , last_name n, salary FROM employees ORDER BY salary ASC;\")\n",
    "print(tabulate.tabulate(cur.fetchall()))"
   ]
  },
  {
   "cell_type": "markdown",
   "metadata": {},
   "source": [
    "+ Write a query to get the total salaries payable to employees on the table \"employees\"  "
   ]
  },
  {
   "cell_type": "code",
   "execution_count": 16,
   "metadata": {},
   "outputs": [
    {
     "name": "stdout",
     "output_type": "stream",
     "text": [
      "------\n",
      "691400\n",
      "------\n"
     ]
    }
   ],
   "source": [
    "cur.execute(\"SELECT SUM(salary) FROM employees;\")\n",
    "print(tabulate.tabulate(cur.fetchall()))"
   ]
  },
  {
   "cell_type": "markdown",
   "metadata": {},
   "source": [
    "+ Write a query to get the maximum and minimum salary from employees table on the table \"employees\"  "
   ]
  },
  {
   "cell_type": "code",
   "execution_count": 17,
   "metadata": {},
   "outputs": [
    {
     "name": "stdout",
     "output_type": "stream",
     "text": [
      "-----  ----\n",
      "24000  2100\n",
      "-----  ----\n"
     ]
    }
   ],
   "source": [
    "cur.execute(\"SELECT max(salary),min(salary) FROM employees;\")\n",
    "print(tabulate.tabulate(cur.fetchall()))"
   ]
  },
  {
   "cell_type": "markdown",
   "metadata": {},
   "source": [
    "+ Write a query to get the average salary and number of employees in the employees table on the table \"employees\"  "
   ]
  },
  {
   "cell_type": "code",
   "execution_count": 18,
   "metadata": {},
   "outputs": [
    {
     "name": "stdout",
     "output_type": "stream",
     "text": [
      "----  ---  -------\n",
      "6461  107  6461.68\n",
      "----  ---  -------\n"
     ]
    }
   ],
   "source": [
    "cur.execute(\"SELECT  sum(salary)/count(*),count(*),AVG(salary) FROM employees;\")\n",
    "print(tabulate.tabulate(cur.fetchall()))\n",
    "\n",
    "#a primeira foi como eu pensei em fazer, a segunda foi cola"
   ]
  },
  {
   "cell_type": "markdown",
   "metadata": {},
   "source": [
    "+ Write a query to get the number of employees working with the company on the table \"employees\"  "
   ]
  },
  {
   "cell_type": "code",
   "execution_count": 19,
   "metadata": {},
   "outputs": [
    {
     "name": "stdout",
     "output_type": "stream",
     "text": [
      "---\n",
      "107\n",
      "---\n"
     ]
    }
   ],
   "source": [
    "cur.execute(\"SELECT count(*) FROM employees;\")\n",
    "print(tabulate.tabulate(cur.fetchall()))\n"
   ]
  },
  {
   "cell_type": "markdown",
   "metadata": {},
   "source": [
    "+ Write a query to get the number of jobs available in the employees table on the table \"employees\"  "
   ]
  },
  {
   "cell_type": "code",
   "execution_count": null,
   "metadata": {},
   "outputs": [],
   "source": []
  },
  {
   "cell_type": "markdown",
   "metadata": {},
   "source": [
    "+ Write a query get all first name from employees table in upper case on the table \"employees\"  "
   ]
  },
  {
   "cell_type": "code",
   "execution_count": 20,
   "metadata": {},
   "outputs": [
    {
     "name": "stdout",
     "output_type": "stream",
     "text": [
      "-----------\n",
      "STEVEN\n",
      "NEENA\n",
      "LEX\n",
      "ALEXANDER\n",
      "BRUCE\n",
      "DAVID\n",
      "VALLI\n",
      "DIANA\n",
      "NANCY\n",
      "DANIEL\n",
      "JOHN\n",
      "ISMAEL\n",
      "JOSE MANUEL\n",
      "LUIS\n",
      "DEN\n",
      "ALEXANDER\n",
      "SHELLI\n",
      "SIGAL\n",
      "GUY\n",
      "KAREN\n",
      "MATTHEW\n",
      "ADAM\n",
      "PAYAM\n",
      "SHANTA\n",
      "KEVIN\n",
      "JULIA\n",
      "IRENE\n",
      "JAMES\n",
      "STEVEN\n",
      "LAURA\n",
      "MOZHE\n",
      "JAMES\n",
      "TJ\n",
      "JASON\n",
      "MICHAEL\n",
      "KI\n",
      "HAZEL\n",
      "RENSKE\n",
      "STEPHEN\n",
      "JOHN\n",
      "JOSHUA\n",
      "TRENNA\n",
      "CURTIS\n",
      "RANDALL\n",
      "PETER\n",
      "JOHN\n",
      "KAREN\n",
      "ALBERTO\n",
      "GERALD\n",
      "ELENI\n",
      "PETER\n",
      "DAVID\n",
      "PETER\n",
      "CHRISTOPHER\n",
      "NANETTE\n",
      "OLIVER\n",
      "JANETTE\n",
      "PATRICK\n",
      "ALLAN\n",
      "LINDSEY\n",
      "LOUISE\n",
      "SARATH\n",
      "CLARA\n",
      "DANIELLE\n",
      "MATTEA\n",
      "DAVID\n",
      "SUNDAR\n",
      "AMIT\n",
      "LISA\n",
      "HARRISON\n",
      "TAYLER\n",
      "WILLIAM\n",
      "ELIZABETH\n",
      "SUNDITA\n",
      "ELLEN\n",
      "ALYSSA\n",
      "JONATHON\n",
      "JACK\n",
      "KIMBERELY\n",
      "CHARLES\n",
      "WINSTON\n",
      "JEAN\n",
      "MARTHA\n",
      "GIRARD\n",
      "NANDITA\n",
      "ALEXIS\n",
      "JULIA\n",
      "ANTHONY\n",
      "KELLY\n",
      "JENNIFER\n",
      "TIMOTHY\n",
      "RANDALL\n",
      "SARAH\n",
      "BRITNEY\n",
      "SAMUEL\n",
      "VANCE\n",
      "ALANA\n",
      "KEVIN\n",
      "DONALD\n",
      "DOUGLAS\n",
      "JENNIFER\n",
      "MICHAEL\n",
      "PAT\n",
      "SUSAN\n",
      "HERMANN\n",
      "SHELLEY\n",
      "WILLIAM\n",
      "-----------\n"
     ]
    }
   ],
   "source": [
    "cur.execute(\"SELECT  upper(first_name) FROM employees;\")\n",
    "print(tabulate.tabulate(cur.fetchall()))\n"
   ]
  },
  {
   "cell_type": "markdown",
   "metadata": {},
   "source": [
    "+ Write a query to get the first 3 characters of first name from employees table on the table \"employees\"  "
   ]
  },
  {
   "cell_type": "code",
   "execution_count": 21,
   "metadata": {},
   "outputs": [
    {
     "name": "stdout",
     "output_type": "stream",
     "text": [
      "---\n",
      "Ste\n",
      "Nee\n",
      "Lex\n",
      "Ale\n",
      "Bru\n",
      "Dav\n",
      "Val\n",
      "Dia\n",
      "Nan\n",
      "Dan\n",
      "Joh\n",
      "Ism\n",
      "Jos\n",
      "Lui\n",
      "Den\n",
      "Ale\n",
      "She\n",
      "Sig\n",
      "Guy\n",
      "Kar\n",
      "Mat\n",
      "Ada\n",
      "Pay\n",
      "Sha\n",
      "Kev\n",
      "Jul\n",
      "Ire\n",
      "Jam\n",
      "Ste\n",
      "Lau\n",
      "Moz\n",
      "Jam\n",
      "TJ\n",
      "Jas\n",
      "Mic\n",
      "Ki\n",
      "Haz\n",
      "Ren\n",
      "Ste\n",
      "Joh\n",
      "Jos\n",
      "Tre\n",
      "Cur\n",
      "Ran\n",
      "Pet\n",
      "Joh\n",
      "Kar\n",
      "Alb\n",
      "Ger\n",
      "Ele\n",
      "Pet\n",
      "Dav\n",
      "Pet\n",
      "Chr\n",
      "Nan\n",
      "Oli\n",
      "Jan\n",
      "Pat\n",
      "All\n",
      "Lin\n",
      "Lou\n",
      "Sar\n",
      "Cla\n",
      "Dan\n",
      "Mat\n",
      "Dav\n",
      "Sun\n",
      "Ami\n",
      "Lis\n",
      "Har\n",
      "Tay\n",
      "Wil\n",
      "Eli\n",
      "Sun\n",
      "Ell\n",
      "Aly\n",
      "Jon\n",
      "Jac\n",
      "Kim\n",
      "Cha\n",
      "Win\n",
      "Jea\n",
      "Mar\n",
      "Gir\n",
      "Nan\n",
      "Ale\n",
      "Jul\n",
      "Ant\n",
      "Kel\n",
      "Jen\n",
      "Tim\n",
      "Ran\n",
      "Sar\n",
      "Bri\n",
      "Sam\n",
      "Van\n",
      "Ala\n",
      "Kev\n",
      "Don\n",
      "Dou\n",
      "Jen\n",
      "Mic\n",
      "Pat\n",
      "Sus\n",
      "Her\n",
      "She\n",
      "Wil\n",
      "---\n"
     ]
    }
   ],
   "source": [
    "cur.execute(\"SELECT SUBSTR(first_name,1,3) FROM employees;\")\n",
    "print(tabulate.tabulate(cur.fetchall()))\n"
   ]
  },
  {
   "cell_type": "markdown",
   "metadata": {},
   "source": [
    "+ Write a query to calculate 171*214+625."
   ]
  },
  {
   "cell_type": "code",
   "execution_count": 22,
   "metadata": {},
   "outputs": [
    {
     "name": "stdout",
     "output_type": "stream",
     "text": [
      "-----\n",
      "37219\n",
      "-----\n"
     ]
    }
   ],
   "source": [
    "cur.execute(\"SELECT  (171*214)+625\")\n",
    "print(tabulate.tabulate(cur.fetchall()))\n"
   ]
  },
  {
   "cell_type": "markdown",
   "metadata": {},
   "source": [
    "+ Write a query to get the names (for example Ellen Abel, Sundar Ande etc.) of all the employees from employees table"
   ]
  },
  {
   "cell_type": "code",
   "execution_count": 23,
   "metadata": {},
   "outputs": [
    {
     "name": "stdout",
     "output_type": "stream",
     "text": [
      "-----------------\n",
      "Steven King\n",
      "Neena Kochhar\n",
      "Lex De Haan\n",
      "Alexander Hunold\n",
      "Bruce Ernst\n",
      "David Austin\n",
      "Valli Pataballa\n",
      "Diana Lorentz\n",
      "Nancy Greenberg\n",
      "Daniel Faviet\n",
      "John Chen\n",
      "Ismael Sciarra\n",
      "Jose Manuel Urman\n",
      "Luis Popp\n",
      "Den Raphaely\n",
      "Alexander Khoo\n",
      "Shelli Baida\n",
      "Sigal Tobias\n",
      "Guy Himuro\n",
      "Karen Colmenares\n",
      "Matthew Weiss\n",
      "Adam Fripp\n",
      "Payam Kaufling\n",
      "Shanta Vollman\n",
      "Kevin Mourgos\n",
      "Julia Nayer\n",
      "Irene Mikkilineni\n",
      "James Landry\n",
      "Steven Markle\n",
      "Laura Bissot\n",
      "Mozhe Atkinson\n",
      "James Marlow\n",
      "TJ Olson\n",
      "Jason Mallin\n",
      "Michael Rogers\n",
      "Ki Gee\n",
      "Hazel Philtanker\n",
      "Renske Ladwig\n",
      "Stephen Stiles\n",
      "John Seo\n",
      "Joshua Patel\n",
      "Trenna Rajs\n",
      "Curtis Davies\n",
      "Randall Matos\n",
      "Peter Vargas\n",
      "John Russell\n",
      "Karen Partners\n",
      "Alberto Errazuriz\n",
      "Gerald Cambrault\n",
      "Eleni Zlotkey\n",
      "Peter Tucker\n",
      "David Bernstein\n",
      "Peter Hall\n",
      "Christopher Olsen\n",
      "Nanette Cambrault\n",
      "Oliver Tuvault\n",
      "Janette King\n",
      "Patrick Sully\n",
      "Allan McEwen\n",
      "Lindsey Smith\n",
      "Louise Doran\n",
      "Sarath Sewall\n",
      "Clara Vishney\n",
      "Danielle Greene\n",
      "Mattea Marvins\n",
      "David Lee\n",
      "Sundar Ande\n",
      "Amit Banda\n",
      "Lisa Ozer\n",
      "Harrison Bloom\n",
      "Tayler Fox\n",
      "William Smith\n",
      "Elizabeth Bates\n",
      "Sundita Kumar\n",
      "Ellen Abel\n",
      "Alyssa Hutton\n",
      "Jonathon Taylor\n",
      "Jack Livingston\n",
      "Kimberely Grant\n",
      "Charles Johnson\n",
      "Winston Taylor\n",
      "Jean Fleaur\n",
      "Martha Sullivan\n",
      "Girard Geoni\n",
      "Nandita Sarchand\n",
      "Alexis Bull\n",
      "Julia Dellinger\n",
      "Anthony Cabrio\n",
      "Kelly Chung\n",
      "Jennifer Dilly\n",
      "Timothy Gates\n",
      "Randall Perkins\n",
      "Sarah Bell\n",
      "Britney Everett\n",
      "Samuel McCain\n",
      "Vance Jones\n",
      "Alana Walsh\n",
      "Kevin Feeney\n",
      "Donald OConnell\n",
      "Douglas Grant\n",
      "Jennifer Whalen\n",
      "Michael Hartstein\n",
      "Pat Fay\n",
      "Susan Mavris\n",
      "Hermann Baer\n",
      "Shelley Higgins\n",
      "William Gietz\n",
      "-----------------\n"
     ]
    }
   ],
   "source": [
    "cur.execute(\"SELECT  first_name || ' ' || last_name AS Nome  FROM employees;\")\n",
    "print(tabulate.tabulate(cur.fetchall()))\n"
   ]
  },
  {
   "cell_type": "markdown",
   "metadata": {},
   "source": [
    "+ Write a query to get first name from employees table after removing white spaces from both side on the table \"employees\"  "
   ]
  },
  {
   "cell_type": "code",
   "execution_count": 24,
   "metadata": {},
   "outputs": [
    {
     "name": "stdout",
     "output_type": "stream",
     "text": [
      "-----------\n",
      "Steven\n",
      "Neena\n",
      "Lex\n",
      "Alexander\n",
      "Bruce\n",
      "David\n",
      "Valli\n",
      "Diana\n",
      "Nancy\n",
      "Daniel\n",
      "John\n",
      "Ismael\n",
      "Jose Manuel\n",
      "Luis\n",
      "Den\n",
      "Alexander\n",
      "Shelli\n",
      "Sigal\n",
      "Guy\n",
      "Karen\n",
      "Matthew\n",
      "Adam\n",
      "Payam\n",
      "Shanta\n",
      "Kevin\n",
      "Julia\n",
      "Irene\n",
      "James\n",
      "Steven\n",
      "Laura\n",
      "Mozhe\n",
      "James\n",
      "TJ\n",
      "Jason\n",
      "Michael\n",
      "Ki\n",
      "Hazel\n",
      "Renske\n",
      "Stephen\n",
      "John\n",
      "Joshua\n",
      "Trenna\n",
      "Curtis\n",
      "Randall\n",
      "Peter\n",
      "John\n",
      "Karen\n",
      "Alberto\n",
      "Gerald\n",
      "Eleni\n",
      "Peter\n",
      "David\n",
      "Peter\n",
      "Christopher\n",
      "Nanette\n",
      "Oliver\n",
      "Janette\n",
      "Patrick\n",
      "Allan\n",
      "Lindsey\n",
      "Louise\n",
      "Sarath\n",
      "Clara\n",
      "Danielle\n",
      "Mattea\n",
      "David\n",
      "Sundar\n",
      "Amit\n",
      "Lisa\n",
      "Harrison\n",
      "Tayler\n",
      "William\n",
      "Elizabeth\n",
      "Sundita\n",
      "Ellen\n",
      "Alyssa\n",
      "Jonathon\n",
      "Jack\n",
      "Kimberely\n",
      "Charles\n",
      "Winston\n",
      "Jean\n",
      "Martha\n",
      "Girard\n",
      "Nandita\n",
      "Alexis\n",
      "Julia\n",
      "Anthony\n",
      "Kelly\n",
      "Jennifer\n",
      "Timothy\n",
      "Randall\n",
      "Sarah\n",
      "Britney\n",
      "Samuel\n",
      "Vance\n",
      "Alana\n",
      "Kevin\n",
      "Donald\n",
      "Douglas\n",
      "Jennifer\n",
      "Michael\n",
      "Pat\n",
      "Susan\n",
      "Hermann\n",
      "Shelley\n",
      "William\n",
      "-----------\n"
     ]
    }
   ],
   "source": [
    "cur.execute(\"SELECT  TRIM(first_name) FROM employees;\")\n",
    "print(tabulate.tabulate(cur.fetchall()))\n"
   ]
  },
  {
   "cell_type": "markdown",
   "metadata": {},
   "source": [
    "+ Write a query to get the length of the employee names (first_name, last_name) from employees table on the table \"employees\"  "
   ]
  },
  {
   "cell_type": "code",
   "execution_count": 25,
   "metadata": {},
   "outputs": [
    {
     "name": "stdout",
     "output_type": "stream",
     "text": [
      "--\n",
      " 6\n",
      " 5\n",
      " 3\n",
      " 9\n",
      " 5\n",
      " 5\n",
      " 5\n",
      " 5\n",
      " 5\n",
      " 6\n",
      " 4\n",
      " 6\n",
      "11\n",
      " 4\n",
      " 3\n",
      " 9\n",
      " 6\n",
      " 5\n",
      " 3\n",
      " 5\n",
      " 7\n",
      " 4\n",
      " 5\n",
      " 6\n",
      " 5\n",
      " 5\n",
      " 5\n",
      " 5\n",
      " 6\n",
      " 5\n",
      " 5\n",
      " 5\n",
      " 2\n",
      " 5\n",
      " 7\n",
      " 2\n",
      " 5\n",
      " 6\n",
      " 7\n",
      " 4\n",
      " 6\n",
      " 6\n",
      " 6\n",
      " 7\n",
      " 5\n",
      " 4\n",
      " 5\n",
      " 7\n",
      " 6\n",
      " 5\n",
      " 5\n",
      " 5\n",
      " 5\n",
      "11\n",
      " 7\n",
      " 6\n",
      " 7\n",
      " 7\n",
      " 5\n",
      " 7\n",
      " 6\n",
      " 6\n",
      " 5\n",
      " 8\n",
      " 6\n",
      " 5\n",
      " 6\n",
      " 4\n",
      " 4\n",
      " 8\n",
      " 6\n",
      " 7\n",
      " 9\n",
      " 7\n",
      " 5\n",
      " 6\n",
      " 8\n",
      " 4\n",
      " 9\n",
      " 7\n",
      " 7\n",
      " 4\n",
      " 6\n",
      " 6\n",
      " 7\n",
      " 6\n",
      " 5\n",
      " 7\n",
      " 5\n",
      " 8\n",
      " 7\n",
      " 7\n",
      " 5\n",
      " 7\n",
      " 6\n",
      " 5\n",
      " 5\n",
      " 5\n",
      " 6\n",
      " 7\n",
      " 8\n",
      " 7\n",
      " 3\n",
      " 5\n",
      " 7\n",
      " 7\n",
      " 7\n",
      "--\n"
     ]
    }
   ],
   "source": [
    "cur.execute(\"SELECT  LENGTH(first_name) FROM employees;\")\n",
    "print(tabulate.tabulate(cur.fetchall()))\n",
    "\n"
   ]
  },
  {
   "cell_type": "markdown",
   "metadata": {},
   "source": [
    "+ Write a query to select first 10 records from a table on the table \"employees\"  \n",
    "Note : Assume the salary field provides the 'annual salary' information."
   ]
  },
  {
   "cell_type": "code",
   "execution_count": null,
   "metadata": {},
   "outputs": [],
   "source": []
  },
  {
   "cell_type": "markdown",
   "metadata": {},
   "source": [
    "+ Write a query to get monthly salary (round 2 decimal places) of each and every employee? - on the table \"employees\"  "
   ]
  },
  {
   "cell_type": "code",
   "execution_count": 26,
   "metadata": {},
   "outputs": [
    {
     "name": "stdout",
     "output_type": "stream",
     "text": [
      "-------\n",
      "2000\n",
      "1416.67\n",
      "1416.67\n",
      " 750\n",
      " 500\n",
      " 400\n",
      " 400\n",
      " 350\n",
      "1000\n",
      " 750\n",
      " 683.33\n",
      " 641.67\n",
      " 650\n",
      " 575\n",
      " 916.67\n",
      " 258.33\n",
      " 241.67\n",
      " 233.33\n",
      " 216.67\n",
      " 208.33\n",
      " 666.67\n",
      " 683.33\n",
      " 658.33\n",
      " 541.67\n",
      " 483.33\n",
      " 266.67\n",
      " 225\n",
      " 200\n",
      " 183.33\n",
      " 275\n",
      " 233.33\n",
      " 208.33\n",
      " 175\n",
      " 275\n",
      " 241.67\n",
      " 200\n",
      " 183.33\n",
      " 300\n",
      " 266.67\n",
      " 225\n",
      " 208.33\n",
      " 291.67\n",
      " 258.33\n",
      " 216.67\n",
      " 208.33\n",
      "1166.67\n",
      "1125\n",
      "1000\n",
      " 916.67\n",
      " 875\n",
      " 833.33\n",
      " 791.67\n",
      " 750\n",
      " 666.67\n",
      " 625\n",
      " 583.33\n",
      " 833.33\n",
      " 791.67\n",
      " 750\n",
      " 666.67\n",
      " 625\n",
      " 583.33\n",
      " 875\n",
      " 791.67\n",
      " 600\n",
      " 566.67\n",
      " 533.33\n",
      " 516.67\n",
      " 958.33\n",
      " 833.33\n",
      " 800\n",
      " 616.67\n",
      " 608.33\n",
      " 508.33\n",
      " 916.67\n",
      " 733.33\n",
      " 716.67\n",
      " 700\n",
      " 583.33\n",
      " 516.67\n",
      " 266.67\n",
      " 258.33\n",
      " 208.33\n",
      " 233.33\n",
      " 350\n",
      " 341.67\n",
      " 283.33\n",
      " 250\n",
      " 316.67\n",
      " 300\n",
      " 241.67\n",
      " 208.33\n",
      " 333.33\n",
      " 325\n",
      " 266.67\n",
      " 233.33\n",
      " 258.33\n",
      " 250\n",
      " 216.67\n",
      " 216.67\n",
      " 366.67\n",
      "1083.33\n",
      " 500\n",
      " 541.67\n",
      " 833.33\n",
      "1000\n",
      " 691.67\n",
      "-------\n"
     ]
    }
   ],
   "source": [
    "cur.execute(\"SELECT  ROUND(CAST(salary as REAL)/12,2) FROM employees;\")\n",
    "print(tabulate.tabulate(cur.fetchall()))\n"
   ]
  },
  {
   "cell_type": "markdown",
   "metadata": {},
   "source": [
    "+ Write a query to display the names (first_name, last_name) and salary for all employees whose salary is not in the range $10,000 through $15,000 on the table \"employees\"  "
   ]
  },
  {
   "cell_type": "code",
   "execution_count": 27,
   "metadata": {},
   "outputs": [
    {
     "name": "stdout",
     "output_type": "stream",
     "text": [
      "-----------  -----------  -----\n",
      "Steven       King         24000\n",
      "Neena        Kochhar      17000\n",
      "Lex          De Haan      17000\n",
      "Alexander    Hunold        9000\n",
      "Bruce        Ernst         6000\n",
      "David        Austin        4800\n",
      "Valli        Pataballa     4800\n",
      "Diana        Lorentz       4200\n",
      "Daniel       Faviet        9000\n",
      "John         Chen          8200\n",
      "Ismael       Sciarra       7700\n",
      "Jose Manuel  Urman         7800\n",
      "Luis         Popp          6900\n",
      "Alexander    Khoo          3100\n",
      "Shelli       Baida         2900\n",
      "Sigal        Tobias        2800\n",
      "Guy          Himuro        2600\n",
      "Karen        Colmenares    2500\n",
      "Matthew      Weiss         8000\n",
      "Adam         Fripp         8200\n",
      "Payam        Kaufling      7900\n",
      "Shanta       Vollman       6500\n",
      "Kevin        Mourgos       5800\n",
      "Julia        Nayer         3200\n",
      "Irene        Mikkilineni   2700\n",
      "James        Landry        2400\n",
      "Steven       Markle        2200\n",
      "Laura        Bissot        3300\n",
      "Mozhe        Atkinson      2800\n",
      "James        Marlow        2500\n",
      "TJ           Olson         2100\n",
      "Jason        Mallin        3300\n",
      "Michael      Rogers        2900\n",
      "Ki           Gee           2400\n",
      "Hazel        Philtanker    2200\n",
      "Renske       Ladwig        3600\n",
      "Stephen      Stiles        3200\n",
      "John         Seo           2700\n",
      "Joshua       Patel         2500\n",
      "Trenna       Rajs          3500\n",
      "Curtis       Davies        3100\n",
      "Randall      Matos         2600\n",
      "Peter        Vargas        2500\n",
      "David        Bernstein     9500\n",
      "Peter        Hall          9000\n",
      "Christopher  Olsen         8000\n",
      "Nanette      Cambrault     7500\n",
      "Oliver       Tuvault       7000\n",
      "Patrick      Sully         9500\n",
      "Allan        McEwen        9000\n",
      "Lindsey      Smith         8000\n",
      "Louise       Doran         7500\n",
      "Sarath       Sewall        7000\n",
      "Danielle     Greene        9500\n",
      "Mattea       Marvins       7200\n",
      "David        Lee           6800\n",
      "Sundar       Ande          6400\n",
      "Amit         Banda         6200\n",
      "Tayler       Fox           9600\n",
      "William      Smith         7400\n",
      "Elizabeth    Bates         7300\n",
      "Sundita      Kumar         6100\n",
      "Alyssa       Hutton        8800\n",
      "Jonathon     Taylor        8600\n",
      "Jack         Livingston    8400\n",
      "Kimberely    Grant         7000\n",
      "Charles      Johnson       6200\n",
      "Winston      Taylor        3200\n",
      "Jean         Fleaur        3100\n",
      "Martha       Sullivan      2500\n",
      "Girard       Geoni         2800\n",
      "Nandita      Sarchand      4200\n",
      "Alexis       Bull          4100\n",
      "Julia        Dellinger     3400\n",
      "Anthony      Cabrio        3000\n",
      "Kelly        Chung         3800\n",
      "Jennifer     Dilly         3600\n",
      "Timothy      Gates         2900\n",
      "Randall      Perkins       2500\n",
      "Sarah        Bell          4000\n",
      "Britney      Everett       3900\n",
      "Samuel       McCain        3200\n",
      "Vance        Jones         2800\n",
      "Alana        Walsh         3100\n",
      "Kevin        Feeney        3000\n",
      "Donald       OConnell      2600\n",
      "Douglas      Grant         2600\n",
      "Jennifer     Whalen        4400\n",
      "Pat          Fay           6000\n",
      "Susan        Mavris        6500\n",
      "William      Gietz         8300\n",
      "-----------  -----------  -----\n"
     ]
    }
   ],
   "source": [
    "cur.execute(\"SELECT  first_name, last_name , salary FROM employees WHERE salary > 15000 OR salary < 10000 ;\")\n",
    "print(tabulate.tabulate(cur.fetchall()))\n"
   ]
  },
  {
   "cell_type": "markdown",
   "metadata": {},
   "source": [
    "+ Write a query to display the names (first_name, last_name) and department ID of all employees in departments 30 or 100 in ascending alphabetical order by department ID on the table \"employees\"  "
   ]
  },
  {
   "cell_type": "code",
   "execution_count": 45,
   "metadata": {},
   "outputs": [
    {
     "name": "stdout",
     "output_type": "stream",
     "text": [
      "-----------  ----------  ---\n",
      "Daniel       Faviet      100\n",
      "Ismael       Sciarra     100\n",
      "John         Chen        100\n",
      "Jose Manuel  Urman       100\n",
      "Luis         Popp        100\n",
      "Nancy        Greenberg   100\n",
      "Alexander    Khoo         30\n",
      "Den          Raphaely     30\n",
      "Guy          Himuro       30\n",
      "Karen        Colmenares   30\n",
      "Shelli       Baida        30\n",
      "Sigal        Tobias       30\n",
      "-----------  ----------  ---\n"
     ]
    }
   ],
   "source": [
    "cur.execute(\"SELECT  first_name,last_name,department_id FROM employees WHERE department_id == 30 or department_id == 100 ORDER BY department_id DESC,first_name ASC;\")\n",
    "print(tabulate.tabulate(cur.fetchall()))\n"
   ]
  },
  {
   "cell_type": "markdown",
   "metadata": {},
   "source": [
    "+ Write a query to display the names (first_name, last_name) and salary for all employees whose salary is not in the range $10,000 through $15,000 and are in department 30 or 100 on the table \"employees\"  "
   ]
  },
  {
   "cell_type": "code",
   "execution_count": 29,
   "metadata": {},
   "outputs": [
    {
     "name": "stdout",
     "output_type": "stream",
     "text": [
      "-----------  ----------  ---  ----\n",
      "Daniel       Faviet      100  9000\n",
      "John         Chen        100  8200\n",
      "Ismael       Sciarra     100  7700\n",
      "Jose Manuel  Urman       100  7800\n",
      "Luis         Popp        100  6900\n",
      "Alexander    Khoo         30  3100\n",
      "Shelli       Baida        30  2900\n",
      "Sigal        Tobias       30  2800\n",
      "Guy          Himuro       30  2600\n",
      "Karen        Colmenares   30  2500\n",
      "-----------  ----------  ---  ----\n"
     ]
    }
   ],
   "source": [
    "cur.execute(\"SELECT  first_name, last_name ,department_id, salary FROM employees WHERE (salary > 15000 OR salary < 10000) AND department_id IN (30,100);\")\n",
    "print(tabulate.tabulate(cur.fetchall()))\n"
   ]
  },
  {
   "cell_type": "markdown",
   "metadata": {},
   "source": [
    "+ Write a query to display the first_name of all employees who have both an \"b\" and \"c\" in their first name. on the table \"employees\"  "
   ]
  },
  {
   "cell_type": "code",
   "execution_count": 56,
   "metadata": {},
   "outputs": [
    {
     "name": "stdout",
     "output_type": "stream",
     "text": [
      "-----------\n",
      "Bruce\n",
      "Nancy\n",
      "Michael\n",
      "Curtis\n",
      "Alberto\n",
      "Christopher\n",
      "Patrick\n",
      "Clara\n",
      "Elizabeth\n",
      "Jack\n",
      "Kimberely\n",
      "Charles\n",
      "Britney\n",
      "Vance\n",
      "Michael\n",
      "-----------\n"
     ]
    }
   ],
   "source": [
    "cur.execute(\"SELECT first_name FROM employees WHERE first_name LIKE '%b%' OR first_name LIKE '%c%';\")\n",
    "print(tabulate.tabulate(cur.fetchall()))"
   ]
  },
  {
   "cell_type": "markdown",
   "metadata": {},
   "source": [
    "+ Write a query to display the last name, job, and salary for all employees whose job is that of a Programmer or a Shipping Clerk, and whose salary is not equal to $4,500, $10,000, or $15,000 on the table \"employees\"  "
   ]
  },
  {
   "cell_type": "code",
   "execution_count": 83,
   "metadata": {},
   "outputs": [
    {
     "name": "stdout",
     "output_type": "stream",
     "text": [
      "-----------  --------  ----\n",
      "Hunold       IT_PROG   9000\n",
      "Ernst        IT_PROG   6000\n",
      "Austin       IT_PROG   4800\n",
      "Pataballa    IT_PROG   4800\n",
      "Lorentz      IT_PROG   4200\n",
      "Nayer        ST_CLERK  3200\n",
      "Mikkilineni  ST_CLERK  2700\n",
      "Landry       ST_CLERK  2400\n",
      "Markle       ST_CLERK  2200\n",
      "Bissot       ST_CLERK  3300\n",
      "Atkinson     ST_CLERK  2800\n",
      "Marlow       ST_CLERK  2500\n",
      "Olson        ST_CLERK  2100\n",
      "Mallin       ST_CLERK  3300\n",
      "Rogers       ST_CLERK  2900\n",
      "Gee          ST_CLERK  2400\n",
      "Philtanker   ST_CLERK  2200\n",
      "Ladwig       ST_CLERK  3600\n",
      "Stiles       ST_CLERK  3200\n",
      "Seo          ST_CLERK  2700\n",
      "Patel        ST_CLERK  2500\n",
      "Rajs         ST_CLERK  3500\n",
      "Davies       ST_CLERK  3100\n",
      "Matos        ST_CLERK  2600\n",
      "Vargas       ST_CLERK  2500\n",
      "-----------  --------  ----\n"
     ]
    }
   ],
   "source": [
    "cur.execute(\"SELECT last_name, job_id, salary FROM employees WHERE job_id IN ('IT_PROG','ST_CLERK') AND salary NOT IN (4500,10000,150000);\")\n",
    "print(tabulate.tabulate(cur.fetchall()))"
   ]
  },
  {
   "cell_type": "markdown",
   "metadata": {},
   "source": [
    "+ Write a query to display the last names of employees whose names have exactly 6 characters on the table \"employees\"  "
   ]
  },
  {
   "cell_type": "code",
   "execution_count": 59,
   "metadata": {},
   "outputs": [
    {
     "name": "stdout",
     "output_type": "stream",
     "text": [
      "---------\n",
      "King\n",
      "Faviet\n",
      "Sciarra\n",
      "Baida\n",
      "Vollman\n",
      "Markle\n",
      "Ladwig\n",
      "Patel\n",
      "Rajs\n",
      "Davies\n",
      "Cambrault\n",
      "Tuvault\n",
      "Doran\n",
      "Sewall\n",
      "Marvins\n",
      "Ande\n",
      "Fox\n",
      "Hutton\n",
      "Sullivan\n",
      "Geoni\n",
      "Bull\n",
      "McCain\n",
      "OConnell\n",
      "---------\n"
     ]
    }
   ],
   "source": [
    "cur.execute(\"SELECT last_name FROM employees WHERE LENGTH(first_name) == 6  ;\")\n",
    "print(tabulate.tabulate(cur.fetchall()))"
   ]
  },
  {
   "cell_type": "markdown",
   "metadata": {},
   "source": [
    "+ Write a query to display the last names of employees having 'e' as the third character on the table \"employees\"  "
   ]
  },
  {
   "cell_type": "code",
   "execution_count": 74,
   "metadata": {},
   "outputs": [
    {
     "name": "stdout",
     "output_type": "stream",
     "text": [
      "---------\n",
      "Greenberg\n",
      "Chen\n",
      "Gee\n",
      "McEwen\n",
      "Greene\n",
      "Lee\n",
      "Ozer\n",
      "Abel\n",
      "Fleaur\n",
      "Everett\n",
      "Feeney\n",
      "Baer\n",
      "Gietz\n",
      "---------\n"
     ]
    }
   ],
   "source": [
    "cur.execute(\"SELECT last_name FROM employees WHERE last_name LIKE '__e%' ;\")\n",
    "print(tabulate.tabulate(cur.fetchall()))"
   ]
  },
  {
   "cell_type": "markdown",
   "metadata": {},
   "source": [
    "+ Write a query to display the jobs/designations available in the employees table on the table \"employees\"  "
   ]
  },
  {
   "cell_type": "code",
   "execution_count": 86,
   "metadata": {},
   "outputs": [
    {
     "name": "stdout",
     "output_type": "stream",
     "text": [
      "-------------------------------\n",
      "job_title\n",
      "President\n",
      "Administration Vice President\n",
      "Administration Assistant\n",
      "Finance Manager\n",
      "Accountant\n",
      "Accounting Manager\n",
      "Public Accountant\n",
      "Sales Manager\n",
      "Sales Representative\n",
      "Purchasing Manager\n",
      "Purchasing Clerk\n",
      "Stock Manager\n",
      "Stock Clerk\n",
      "Shipping Clerk\n",
      "Programmer\n",
      "Marketing Manager\n",
      "Marketing Representative\n",
      "Human Resources Representative\n",
      "Public Relations Representative\n",
      "-------------------------------\n"
     ]
    }
   ],
   "source": [
    "cur.execute(\"SELECT DISTINCT job_title FROM jobs;\")\n",
    "print(tabulate.tabulate(cur.fetchall()))"
   ]
  },
  {
   "cell_type": "markdown",
   "metadata": {},
   "source": [
    "+ Write a query to display the names (first_name, last_name), salary and PF (15% of salary) of all employees on the table \"employees\"  "
   ]
  },
  {
   "cell_type": "code",
   "execution_count": null,
   "metadata": {},
   "outputs": [],
   "source": [
    "cur.execute(\"SELECT first_name,last_name,salary,salary*0.15 'PF' FROM employees;\")\n",
    "print(tabulate.tabulate(cur.fetchall()))"
   ]
  },
  {
   "cell_type": "markdown",
   "metadata": {},
   "source": [
    "+ Write a query to list the number of jobs available in the employees table."
   ]
  },
  {
   "cell_type": "code",
   "execution_count": 87,
   "metadata": {},
   "outputs": [
    {
     "name": "stdout",
     "output_type": "stream",
     "text": [
      "----------\n",
      "AD_PRES\n",
      "AD_VP\n",
      "IT_PROG\n",
      "FI_MGR\n",
      "FI_ACCOUNT\n",
      "PU_MAN\n",
      "PU_CLERK\n",
      "ST_MAN\n",
      "ST_CLERK\n",
      "SA_MAN\n",
      "SA_REP\n",
      "SH_CLERK\n",
      "AD_ASST\n",
      "MK_MAN\n",
      "MK_REP\n",
      "HR_REP\n",
      "PR_REP\n",
      "AC_MGR\n",
      "AC_ACCOUNT\n",
      "----------\n"
     ]
    }
   ],
   "source": [
    "cur.execute(\"SELECT DISTINCT job_id FROM employees;\")\n",
    "print(tabulate.tabulate(cur.fetchall()))"
   ]
  },
  {
   "cell_type": "markdown",
   "metadata": {},
   "source": [
    "+ Write a query to get the total salaries payable to employees."
   ]
  },
  {
   "cell_type": "code",
   "execution_count": 88,
   "metadata": {},
   "outputs": [
    {
     "name": "stdout",
     "output_type": "stream",
     "text": [
      "------\n",
      "691400\n",
      "------\n"
     ]
    }
   ],
   "source": [
    "cur.execute(\"SELECT sum(salary) FROM employees;\")\n",
    "print(tabulate.tabulate(cur.fetchall()))"
   ]
  },
  {
   "cell_type": "markdown",
   "metadata": {},
   "source": [
    "+ Write a query to get the minimum salary from employees table."
   ]
  },
  {
   "cell_type": "code",
   "execution_count": 90,
   "metadata": {},
   "outputs": [
    {
     "name": "stdout",
     "output_type": "stream",
     "text": [
      "----\n",
      "2100\n",
      "----\n"
     ]
    }
   ],
   "source": [
    "cur.execute(\"SELECT min(salary) FROM employees;\")\n",
    "print(tabulate.tabulate(cur.fetchall()))"
   ]
  },
  {
   "cell_type": "markdown",
   "metadata": {},
   "source": [
    "+ Write a query to get the maximum salary of an employee working as a Programmer."
   ]
  },
  {
   "cell_type": "code",
   "execution_count": null,
   "metadata": {},
   "outputs": [],
   "source": [
    "cur.execute(\"SELECT max(salary) FROM employees WHERE job_id == \"IT_PROG\";\")\n",
    "print(tabulate.tabulate(cur.fetchall()))"
   ]
  },
  {
   "cell_type": "markdown",
   "metadata": {},
   "source": [
    "+ Write a query to get the average salary and number of employees working the department 90."
   ]
  },
  {
   "cell_type": "code",
   "execution_count": 93,
   "metadata": {},
   "outputs": [
    {
     "name": "stdout",
     "output_type": "stream",
     "text": [
      "-------\n",
      "19333.3\n",
      "-------\n"
     ]
    }
   ],
   "source": [
    "cur.execute(\"SELECT AVG(salary) FROM employees WHERE department_id == 90;\")\n",
    "print(tabulate.tabulate(cur.fetchall()))"
   ]
  },
  {
   "cell_type": "markdown",
   "metadata": {},
   "source": [
    "+ Write a query to get the highest, lowest, sum, and average salary of all employees."
   ]
  },
  {
   "cell_type": "code",
   "execution_count": 94,
   "metadata": {},
   "outputs": [
    {
     "name": "stdout",
     "output_type": "stream",
     "text": [
      "-----  ----  -------\n",
      "24000  2100  6461.68\n",
      "-----  ----  -------\n"
     ]
    }
   ],
   "source": [
    "cur.execute(\"SELECT max(salary),min(salary),avg(salary) FROM employees;\")\n",
    "print(tabulate.tabulate(cur.fetchall()))"
   ]
  },
  {
   "cell_type": "markdown",
   "metadata": {},
   "source": [
    "+ Write a query to get the number of employees with the same job."
   ]
  },
  {
   "cell_type": "code",
   "execution_count": 98,
   "metadata": {},
   "outputs": [
    {
     "name": "stdout",
     "output_type": "stream",
     "text": [
      "----------  --\n",
      "AD_PRES      7\n",
      "AD_VP        5\n",
      "IT_PROG      7\n",
      "FI_MGR       6\n",
      "FI_ACCOUNT  10\n",
      "PU_MAN       6\n",
      "PU_CLERK     8\n",
      "ST_MAN       6\n",
      "ST_CLERK     8\n",
      "SA_MAN       6\n",
      "SA_REP       6\n",
      "SH_CLERK     8\n",
      "AD_ASST      7\n",
      "MK_MAN       6\n",
      "MK_REP       6\n",
      "HR_REP       6\n",
      "PR_REP       6\n",
      "AC_MGR       6\n",
      "AC_ACCOUNT  10\n",
      "----------  --\n"
     ]
    }
   ],
   "source": [
    "cur.execute(\"SELECT distinct job_id,LENGTH(job_id) FROM employees;\")\n",
    "print(tabulate.tabulate(cur.fetchall()))"
   ]
  },
  {
   "cell_type": "markdown",
   "metadata": {},
   "source": [
    "+ Write a query to get the difference between the highest and lowest salaries."
   ]
  },
  {
   "cell_type": "code",
   "execution_count": 105,
   "metadata": {},
   "outputs": [
    {
     "name": "stdout",
     "output_type": "stream",
     "text": [
      "-----\n",
      "21900\n",
      "-----\n"
     ]
    }
   ],
   "source": [
    "cur.execute(\"SELECT max(salary)-min(salary) FROM employees;\")\n",
    "print(tabulate.tabulate(cur.fetchall()))"
   ]
  },
  {
   "cell_type": "markdown",
   "metadata": {},
   "source": [
    "+ Write a query to find the manager ID and the salary of the lowest-paid employee for that manager."
   ]
  },
  {
   "cell_type": "code",
   "execution_count": null,
   "metadata": {},
   "outputs": [],
   "source": []
  },
  {
   "cell_type": "markdown",
   "metadata": {},
   "source": [
    "+ Write a query to get the department ID and the total salary payable in each department."
   ]
  },
  {
   "cell_type": "code",
   "execution_count": 106,
   "metadata": {},
   "outputs": [
    {
     "name": "stdout",
     "output_type": "stream",
     "text": [
      "---  ------\n",
      "  0    7000\n",
      " 10    4400\n",
      " 20   19000\n",
      " 30   24900\n",
      " 40    6500\n",
      " 50  156400\n",
      " 60   28800\n",
      " 70   10000\n",
      " 80  304500\n",
      " 90   58000\n",
      "100   51600\n",
      "110   20300\n",
      "---  ------\n"
     ]
    }
   ],
   "source": [
    "cur.execute(\"SELECT department_id, SUM(salary) FROM employees GROUP BY department_id;\")\n",
    "print(tabulate.tabulate(cur.fetchall()))"
   ]
  },
  {
   "cell_type": "markdown",
   "metadata": {},
   "source": [
    "+ Write a query to get the average salary for each job ID excluding programmer."
   ]
  },
  {
   "cell_type": "code",
   "execution_count": 112,
   "metadata": {},
   "outputs": [
    {
     "name": "stdout",
     "output_type": "stream",
     "text": [
      "----------  ------\n",
      "AC_ACCOUNT    8300\n",
      "AC_MGR       12000\n",
      "AD_ASST       4400\n",
      "AD_PRES      24000\n",
      "AD_VP        34000\n",
      "FI_ACCOUNT   39600\n",
      "FI_MGR       12000\n",
      "HR_REP        6500\n",
      "MK_MAN       13000\n",
      "MK_REP        6000\n",
      "PR_REP       10000\n",
      "PU_CLERK     13900\n",
      "PU_MAN       11000\n",
      "SA_MAN       61000\n",
      "SA_REP      250500\n",
      "SH_CLERK     64300\n",
      "ST_CLERK     55700\n",
      "ST_MAN       36400\n",
      "----------  ------\n"
     ]
    }
   ],
   "source": [
    "cur.execute(\"SELECT job_id, SUM(salary) FROM employees WHERE job_id != 'IT_PROG' GROUP BY job_id ;\")\n",
    "print(tabulate.tabulate(cur.fetchall()))"
   ]
  },
  {
   "cell_type": "markdown",
   "metadata": {},
   "source": [
    "+ Write a query to get the total salary, maximum, minimum, average salary of employees (job ID wise), for department ID 90 only."
   ]
  },
  {
   "cell_type": "code",
   "execution_count": 115,
   "metadata": {},
   "outputs": [
    {
     "name": "stdout",
     "output_type": "stream",
     "text": [
      "-------  -----  -----  -----  -----\n",
      "AD_PRES  24000  24000  24000  24000\n",
      "AD_VP    34000  17000  17000  17000\n",
      "-------  -----  -----  -----  -----\n"
     ]
    }
   ],
   "source": [
    "cur.execute(\"SELECT job_id, SUM(salary),min(salary),max(salary),avg(salary) FROM employees WHERE department_id == 90 GROUP BY job_id ;\")\n",
    "print(tabulate.tabulate(cur.fetchall()))"
   ]
  },
  {
   "cell_type": "markdown",
   "metadata": {},
   "source": [
    "+ Write a query to get the job ID and maximum salary of the employees where maximum salary is greater than or equal to $4000. "
   ]
  },
  {
   "cell_type": "code",
   "execution_count": 118,
   "metadata": {},
   "outputs": [
    {
     "name": "stdout",
     "output_type": "stream",
     "text": [
      "----------  -----\n",
      "AC_ACCOUNT   8300\n",
      "AC_MGR      12000\n",
      "AD_ASST      4400\n",
      "AD_PRES     24000\n",
      "AD_VP       17000\n",
      "FI_ACCOUNT   9000\n",
      "FI_MGR      12000\n",
      "HR_REP       6500\n",
      "IT_PROG      9000\n",
      "MK_MAN      13000\n",
      "MK_REP       6000\n",
      "PR_REP      10000\n",
      "PU_MAN      11000\n",
      "SA_MAN      14000\n",
      "SA_REP      11500\n",
      "SH_CLERK     4200\n",
      "ST_MAN       8200\n",
      "----------  -----\n"
     ]
    }
   ],
   "source": [
    "cur.execute(\"SELECT job_id, max(salary) FROM employees WHERE salary >= 4000 GROUP BY job_id ;\")\n",
    "print(tabulate.tabulate(cur.fetchall()))"
   ]
  },
  {
   "cell_type": "markdown",
   "metadata": {},
   "source": [
    "+ Write a query to get the average salary for all departments employing more than 10 employees."
   ]
  },
  {
   "cell_type": "code",
   "execution_count": 128,
   "metadata": {},
   "outputs": [
    {
     "name": "stdout",
     "output_type": "stream",
     "text": [
      "-----\n",
      " 8300\n",
      "12000\n",
      " 4400\n",
      "24000\n",
      "17000\n",
      " 7920\n",
      "12000\n",
      " 6500\n",
      " 5760\n",
      "13000\n",
      " 6000\n",
      "10000\n",
      " 2780\n",
      "11000\n",
      "12200\n",
      " 8350\n",
      " 3215\n",
      " 2785\n",
      " 7280\n",
      "-----\n"
     ]
    }
   ],
   "source": [
    "cur.execute(\"SELECT avg(salary) FROM employees WHERE length(department_id > 10) GROUP BY job_id ;\")\n",
    "print(tabulate.tabulate(cur.fetchall()))"
   ]
  },
  {
   "cell_type": "markdown",
   "metadata": {},
   "source": [
    "+ Write a query to find the names (first_name, last_name) and salaries of the employees who have a higher salary than the employee whose last_name='Bull'."
   ]
  },
  {
   "cell_type": "code",
   "execution_count": 132,
   "metadata": {},
   "outputs": [
    {
     "name": "stdout",
     "output_type": "stream",
     "text": [
      "-----------  ----------  -----\n",
      "Steven       King        24000\n",
      "Neena        Kochhar     17000\n",
      "Lex          De Haan     17000\n",
      "Alexander    Hunold       9000\n",
      "Bruce        Ernst        6000\n",
      "David        Austin       4800\n",
      "Valli        Pataballa    4800\n",
      "Diana        Lorentz      4200\n",
      "Nancy        Greenberg   12000\n",
      "Daniel       Faviet       9000\n",
      "John         Chen         8200\n",
      "Ismael       Sciarra      7700\n",
      "Jose Manuel  Urman        7800\n",
      "Luis         Popp         6900\n",
      "Den          Raphaely    11000\n",
      "Matthew      Weiss        8000\n",
      "Adam         Fripp        8200\n",
      "Payam        Kaufling     7900\n",
      "Shanta       Vollman      6500\n",
      "Kevin        Mourgos      5800\n",
      "John         Russell     14000\n",
      "Karen        Partners    13500\n",
      "Alberto      Errazuriz   12000\n",
      "Gerald       Cambrault   11000\n",
      "Eleni        Zlotkey     10500\n",
      "Peter        Tucker      10000\n",
      "David        Bernstein    9500\n",
      "Peter        Hall         9000\n",
      "Christopher  Olsen        8000\n",
      "Nanette      Cambrault    7500\n",
      "Oliver       Tuvault      7000\n",
      "Janette      King        10000\n",
      "Patrick      Sully        9500\n",
      "Allan        McEwen       9000\n",
      "Lindsey      Smith        8000\n",
      "Louise       Doran        7500\n",
      "Sarath       Sewall       7000\n",
      "Clara        Vishney     10500\n",
      "Danielle     Greene       9500\n",
      "Mattea       Marvins      7200\n",
      "David        Lee          6800\n",
      "Sundar       Ande         6400\n",
      "Amit         Banda        6200\n",
      "Lisa         Ozer        11500\n",
      "Harrison     Bloom       10000\n",
      "Tayler       Fox          9600\n",
      "William      Smith        7400\n",
      "Elizabeth    Bates        7300\n",
      "Sundita      Kumar        6100\n",
      "Ellen        Abel        11000\n",
      "Alyssa       Hutton       8800\n",
      "Jonathon     Taylor       8600\n",
      "Jack         Livingston   8400\n",
      "Kimberely    Grant        7000\n",
      "Charles      Johnson      6200\n",
      "Nandita      Sarchand     4200\n",
      "Jennifer     Whalen       4400\n",
      "Michael      Hartstein   13000\n",
      "Pat          Fay          6000\n",
      "Susan        Mavris       6500\n",
      "Hermann      Baer        10000\n",
      "Shelley      Higgins     12000\n",
      "William      Gietz        8300\n",
      "-----------  ----------  -----\n"
     ]
    }
   ],
   "source": [
    "cur.execute(\"SELECT FIRST_NAME, LAST_NAME, SALARY FROM employees WHERE SALARY > (SELECT salary FROM employees WHERE last_name = 'Bull');\")\n",
    "print(tabulate.tabulate(cur.fetchall()))"
   ]
  },
  {
   "cell_type": "markdown",
   "metadata": {},
   "source": [
    "+ Write a query to find the names (first_name, last_name) of all employees who works in the IT department."
   ]
  },
  {
   "cell_type": "code",
   "execution_count": 122,
   "metadata": {},
   "outputs": [
    {
     "name": "stdout",
     "output_type": "stream",
     "text": [
      "---------  ---------\n",
      "Alexander  Hunold\n",
      "Bruce      Ernst\n",
      "David      Austin\n",
      "Valli      Pataballa\n",
      "Diana      Lorentz\n",
      "---------  ---------\n"
     ]
    }
   ],
   "source": [
    "cur.execute(\"SELECT first_name, last_name from employees where job_id == 'IT_PROG';\")\n",
    "print(tabulate.tabulate(cur.fetchall()))"
   ]
  },
  {
   "cell_type": "markdown",
   "metadata": {},
   "source": [
    "+ Write a query to find the names (first_name, last_name) of the employees who have a manager who works for a department based in the United States. Hint : Write single-row and multiple-row subqueries"
   ]
  },
  {
   "cell_type": "code",
   "execution_count": 129,
   "metadata": {},
   "outputs": [
    {
     "name": "stdout",
     "output_type": "stream",
     "text": [
      "-----------  -----------\n",
      "Neena        Kochhar\n",
      "Lex          De Haan\n",
      "Alexander    Hunold\n",
      "Bruce        Ernst\n",
      "David        Austin\n",
      "Valli        Pataballa\n",
      "Diana        Lorentz\n",
      "Nancy        Greenberg\n",
      "Daniel       Faviet\n",
      "John         Chen\n",
      "Ismael       Sciarra\n",
      "Jose Manuel  Urman\n",
      "Luis         Popp\n",
      "Den          Raphaely\n",
      "Alexander    Khoo\n",
      "Shelli       Baida\n",
      "Sigal        Tobias\n",
      "Guy          Himuro\n",
      "Karen        Colmenares\n",
      "Matthew      Weiss\n",
      "Adam         Fripp\n",
      "Payam        Kaufling\n",
      "Shanta       Vollman\n",
      "Kevin        Mourgos\n",
      "Julia        Nayer\n",
      "Irene        Mikkilineni\n",
      "James        Landry\n",
      "Steven       Markle\n",
      "Laura        Bissot\n",
      "Mozhe        Atkinson\n",
      "James        Marlow\n",
      "TJ           Olson\n",
      "Jason        Mallin\n",
      "Michael      Rogers\n",
      "Ki           Gee\n",
      "Hazel        Philtanker\n",
      "Renske       Ladwig\n",
      "Stephen      Stiles\n",
      "John         Seo\n",
      "Joshua       Patel\n",
      "Trenna       Rajs\n",
      "Curtis       Davies\n",
      "Randall      Matos\n",
      "Peter        Vargas\n",
      "John         Russell\n",
      "Karen        Partners\n",
      "Alberto      Errazuriz\n",
      "Gerald       Cambrault\n",
      "Eleni        Zlotkey\n",
      "Winston      Taylor\n",
      "Jean         Fleaur\n",
      "Martha       Sullivan\n",
      "Girard       Geoni\n",
      "Nandita      Sarchand\n",
      "Alexis       Bull\n",
      "Julia        Dellinger\n",
      "Anthony      Cabrio\n",
      "Kelly        Chung\n",
      "Jennifer     Dilly\n",
      "Timothy      Gates\n",
      "Randall      Perkins\n",
      "Sarah        Bell\n",
      "Britney      Everett\n",
      "Samuel       McCain\n",
      "Vance        Jones\n",
      "Alana        Walsh\n",
      "Kevin        Feeney\n",
      "Donald       OConnell\n",
      "Douglas      Grant\n",
      "Jennifer     Whalen\n",
      "Michael      Hartstein\n",
      "Susan        Mavris\n",
      "Hermann      Baer\n",
      "Shelley      Higgins\n",
      "William      Gietz\n",
      "-----------  -----------\n"
     ]
    }
   ],
   "source": [
    "cur.execute(\"SELECT first_name, last_name FROM employees WHERE manager_id in (select employee_id FROM employees WHERE department_id IN (SELECT department_id FROM departments WHERE location_id IN (select location_id from locations where country_id='US')));\")\n",
    "print(tabulate.tabulate(cur.fetchall()))"
   ]
  },
  {
   "cell_type": "markdown",
   "metadata": {},
   "source": [
    "+ Write a query to find the names (first_name, last_name) of the employees who are managers. "
   ]
  },
  {
   "cell_type": "code",
   "execution_count": 131,
   "metadata": {},
   "outputs": [
    {
     "name": "stdout",
     "output_type": "stream",
     "text": [
      "-----------  -----------  ---\n",
      "Steven       King           0\n",
      "Neena        Kochhar      100\n",
      "Lex          De Haan      100\n",
      "Alexander    Hunold       102\n",
      "Bruce        Ernst        103\n",
      "David        Austin       103\n",
      "Valli        Pataballa    103\n",
      "Diana        Lorentz      103\n",
      "Nancy        Greenberg    101\n",
      "Daniel       Faviet       108\n",
      "John         Chen         108\n",
      "Ismael       Sciarra      108\n",
      "Jose Manuel  Urman        108\n",
      "Luis         Popp         108\n",
      "Den          Raphaely     100\n",
      "Alexander    Khoo         114\n",
      "Shelli       Baida        114\n",
      "Sigal        Tobias       114\n",
      "Guy          Himuro       114\n",
      "Karen        Colmenares   114\n",
      "Matthew      Weiss        100\n",
      "Adam         Fripp        100\n",
      "Payam        Kaufling     100\n",
      "Shanta       Vollman      100\n",
      "Kevin        Mourgos      100\n",
      "Julia        Nayer        120\n",
      "Irene        Mikkilineni  120\n",
      "James        Landry       120\n",
      "Steven       Markle       120\n",
      "Laura        Bissot       121\n",
      "Mozhe        Atkinson     121\n",
      "James        Marlow       121\n",
      "TJ           Olson        121\n",
      "Jason        Mallin       122\n",
      "Michael      Rogers       122\n",
      "Ki           Gee          122\n",
      "Hazel        Philtanker   122\n",
      "Renske       Ladwig       123\n",
      "Stephen      Stiles       123\n",
      "John         Seo          123\n",
      "Joshua       Patel        123\n",
      "Trenna       Rajs         124\n",
      "Curtis       Davies       124\n",
      "Randall      Matos        124\n",
      "Peter        Vargas       124\n",
      "John         Russell      100\n",
      "Karen        Partners     100\n",
      "Alberto      Errazuriz    100\n",
      "Gerald       Cambrault    100\n",
      "Eleni        Zlotkey      100\n",
      "Peter        Tucker       145\n",
      "David        Bernstein    145\n",
      "Peter        Hall         145\n",
      "Christopher  Olsen        145\n",
      "Nanette      Cambrault    145\n",
      "Oliver       Tuvault      145\n",
      "Janette      King         146\n",
      "Patrick      Sully        146\n",
      "Allan        McEwen       146\n",
      "Lindsey      Smith        146\n",
      "Louise       Doran        146\n",
      "Sarath       Sewall       146\n",
      "Clara        Vishney      147\n",
      "Danielle     Greene       147\n",
      "Mattea       Marvins      147\n",
      "David        Lee          147\n",
      "Sundar       Ande         147\n",
      "Amit         Banda        147\n",
      "Lisa         Ozer         148\n",
      "Harrison     Bloom        148\n",
      "Tayler       Fox          148\n",
      "William      Smith        148\n",
      "Elizabeth    Bates        148\n",
      "Sundita      Kumar        148\n",
      "Ellen        Abel         149\n",
      "Alyssa       Hutton       149\n",
      "Jonathon     Taylor       149\n",
      "Jack         Livingston   149\n",
      "Kimberely    Grant        149\n",
      "Charles      Johnson      149\n",
      "Winston      Taylor       120\n",
      "Jean         Fleaur       120\n",
      "Martha       Sullivan     120\n",
      "Girard       Geoni        120\n",
      "Nandita      Sarchand     121\n",
      "Alexis       Bull         121\n",
      "Julia        Dellinger    121\n",
      "Anthony      Cabrio       121\n",
      "Kelly        Chung        122\n",
      "Jennifer     Dilly        122\n",
      "Timothy      Gates        122\n",
      "Randall      Perkins      122\n",
      "Sarah        Bell         123\n",
      "Britney      Everett      123\n",
      "Samuel       McCain       123\n",
      "Vance        Jones        123\n",
      "Alana        Walsh        124\n",
      "Kevin        Feeney       124\n",
      "Donald       OConnell     124\n",
      "Douglas      Grant        124\n",
      "Jennifer     Whalen       101\n",
      "Michael      Hartstein    100\n",
      "Pat          Fay          201\n",
      "Susan        Mavris       101\n",
      "Hermann      Baer         101\n",
      "Shelley      Higgins      101\n",
      "William      Gietz        205\n",
      "-----------  -----------  ---\n"
     ]
    }
   ],
   "source": [
    "cur.execute(\"SELECT first_name, last_name,manager_id from employees ;\")\n",
    "print(tabulate.tabulate(cur.fetchall()))"
   ]
  },
  {
   "cell_type": "markdown",
   "metadata": {},
   "source": [
    "+ Write a query to find the names (first_name, last_name), the salary of the employees whose salary is greater than the average salary."
   ]
  },
  {
   "cell_type": "code",
   "execution_count": 133,
   "metadata": {},
   "outputs": [
    {
     "name": "stdout",
     "output_type": "stream",
     "text": [
      "-----------  ----------  -----\n",
      "Steven       King        24000\n",
      "Neena        Kochhar     17000\n",
      "Lex          De Haan     17000\n",
      "Alexander    Hunold       9000\n",
      "Nancy        Greenberg   12000\n",
      "Daniel       Faviet       9000\n",
      "John         Chen         8200\n",
      "Ismael       Sciarra      7700\n",
      "Jose Manuel  Urman        7800\n",
      "Luis         Popp         6900\n",
      "Den          Raphaely    11000\n",
      "Matthew      Weiss        8000\n",
      "Adam         Fripp        8200\n",
      "Payam        Kaufling     7900\n",
      "Shanta       Vollman      6500\n",
      "John         Russell     14000\n",
      "Karen        Partners    13500\n",
      "Alberto      Errazuriz   12000\n",
      "Gerald       Cambrault   11000\n",
      "Eleni        Zlotkey     10500\n",
      "Peter        Tucker      10000\n",
      "David        Bernstein    9500\n",
      "Peter        Hall         9000\n",
      "Christopher  Olsen        8000\n",
      "Nanette      Cambrault    7500\n",
      "Oliver       Tuvault      7000\n",
      "Janette      King        10000\n",
      "Patrick      Sully        9500\n",
      "Allan        McEwen       9000\n",
      "Lindsey      Smith        8000\n",
      "Louise       Doran        7500\n",
      "Sarath       Sewall       7000\n",
      "Clara        Vishney     10500\n",
      "Danielle     Greene       9500\n",
      "Mattea       Marvins      7200\n",
      "David        Lee          6800\n",
      "Lisa         Ozer        11500\n",
      "Harrison     Bloom       10000\n",
      "Tayler       Fox          9600\n",
      "William      Smith        7400\n",
      "Elizabeth    Bates        7300\n",
      "Ellen        Abel        11000\n",
      "Alyssa       Hutton       8800\n",
      "Jonathon     Taylor       8600\n",
      "Jack         Livingston   8400\n",
      "Kimberely    Grant        7000\n",
      "Michael      Hartstein   13000\n",
      "Susan        Mavris       6500\n",
      "Hermann      Baer        10000\n",
      "Shelley      Higgins     12000\n",
      "William      Gietz        8300\n",
      "-----------  ----------  -----\n"
     ]
    }
   ],
   "source": [
    "cur.execute(\"SELECT first_name, last_name, salary FROM employees WHERE salary > (SELECT avg(salary) FROM employees);\")\n",
    "print(tabulate.tabulate(cur.fetchall()))"
   ]
  },
  {
   "cell_type": "markdown",
   "metadata": {},
   "source": [
    "+ Write a query to find the names (first_name, last_name), the salary of the employees whose salary is equal to the minimum salary for their job grade."
   ]
  },
  {
   "cell_type": "code",
   "execution_count": 145,
   "metadata": {},
   "outputs": [
    {
     "name": "stdout",
     "output_type": "stream",
     "text": [
      "-------  ----------  ----\n",
      "Karen    Colmenares  2500\n",
      "Martha   Sullivan    2500\n",
      "Randall  Perkins     2500\n",
      "-------  ----------  ----\n"
     ]
    }
   ],
   "source": [
    "cur.execute(\"SELECT first_name, last_name, salary FROM employees WHERE employees.salary = (SELECT min_salary FROM jobs WHERE employees.job_id = jobs.job_id);\")\n",
    "print(tabulate.tabulate(cur.fetchall()))"
   ]
  },
  {
   "cell_type": "markdown",
   "metadata": {},
   "source": [
    "+ Write a query to find the names (first_name, last_name), the salary of the employees who earn more than the average salary and who works in any of the IT departments."
   ]
  },
  {
   "cell_type": "code",
   "execution_count": 147,
   "metadata": {},
   "outputs": [
    {
     "name": "stdout",
     "output_type": "stream",
     "text": [
      "---------  ------  ----\n",
      "Alexander  Hunold  9000\n",
      "---------  ------  ----\n"
     ]
    }
   ],
   "source": [
    "cur.execute(\"SELECT first_name, last_name, salary FROM employees WHERE department_id IN (SELECT department_id FROM departments WHERE depart_name LIKE 'IT%') AND salary > (SELECT avg(salary) FROM employees);\")\n",
    "print(tabulate.tabulate(cur.fetchall()))"
   ]
  },
  {
   "cell_type": "markdown",
   "metadata": {},
   "source": [
    "+ Write a query to find the names (first_name, last_name), the salary of the employees who earn more than Mr. Bell. "
   ]
  },
  {
   "cell_type": "code",
   "execution_count": 137,
   "metadata": {},
   "outputs": [
    {
     "name": "stdout",
     "output_type": "stream",
     "text": [
      "-----------  ----------\n",
      "Steven       King\n",
      "Neena        Kochhar\n",
      "Lex          De Haan\n",
      "Alexander    Hunold\n",
      "Bruce        Ernst\n",
      "David        Austin\n",
      "Valli        Pataballa\n",
      "Diana        Lorentz\n",
      "Nancy        Greenberg\n",
      "Daniel       Faviet\n",
      "John         Chen\n",
      "Ismael       Sciarra\n",
      "Jose Manuel  Urman\n",
      "Luis         Popp\n",
      "Den          Raphaely\n",
      "Matthew      Weiss\n",
      "Adam         Fripp\n",
      "Payam        Kaufling\n",
      "Shanta       Vollman\n",
      "Kevin        Mourgos\n",
      "John         Russell\n",
      "Karen        Partners\n",
      "Alberto      Errazuriz\n",
      "Gerald       Cambrault\n",
      "Eleni        Zlotkey\n",
      "Peter        Tucker\n",
      "David        Bernstein\n",
      "Peter        Hall\n",
      "Christopher  Olsen\n",
      "Nanette      Cambrault\n",
      "Oliver       Tuvault\n",
      "Janette      King\n",
      "Patrick      Sully\n",
      "Allan        McEwen\n",
      "Lindsey      Smith\n",
      "Louise       Doran\n",
      "Sarath       Sewall\n",
      "Clara        Vishney\n",
      "Danielle     Greene\n",
      "Mattea       Marvins\n",
      "David        Lee\n",
      "Sundar       Ande\n",
      "Amit         Banda\n",
      "Lisa         Ozer\n",
      "Harrison     Bloom\n",
      "Tayler       Fox\n",
      "William      Smith\n",
      "Elizabeth    Bates\n",
      "Sundita      Kumar\n",
      "Ellen        Abel\n",
      "Alyssa       Hutton\n",
      "Jonathon     Taylor\n",
      "Jack         Livingston\n",
      "Kimberely    Grant\n",
      "Charles      Johnson\n",
      "Nandita      Sarchand\n",
      "Alexis       Bull\n",
      "Jennifer     Whalen\n",
      "Michael      Hartstein\n",
      "Pat          Fay\n",
      "Susan        Mavris\n",
      "Hermann      Baer\n",
      "Shelley      Higgins\n",
      "William      Gietz\n",
      "-----------  ----------\n"
     ]
    }
   ],
   "source": [
    "cur.execute(\"SELECT first_name, last_name FROM employees WHERE salary > (SELECT salary FROM employees where last_name == 'Bell');\")\n",
    "print(tabulate.tabulate(cur.fetchall()))"
   ]
  },
  {
   "cell_type": "markdown",
   "metadata": {},
   "source": [
    "+ Write a query to find the names (first_name, last_name), the salary of the employees who earn the same salary as the minimum salary for all departments. "
   ]
  },
  {
   "cell_type": "code",
   "execution_count": 141,
   "metadata": {},
   "outputs": [
    {
     "name": "stdout",
     "output_type": "stream",
     "text": [
      "--  -----\n",
      "TJ  Olson\n",
      "--  -----\n"
     ]
    }
   ],
   "source": [
    "cur.execute(\"SELECT first_name, last_name FROM employees WHERE salary == (SELECT min(salary) FROM employees);\")\n",
    "print(tabulate.tabulate(cur.fetchall()))"
   ]
  },
  {
   "cell_type": "markdown",
   "metadata": {},
   "source": [
    "+ Write a query to find the names (first_name, last_name) of the employees who are not supervisors. "
   ]
  },
  {
   "cell_type": "code",
   "execution_count": 144,
   "metadata": {},
   "outputs": [
    {
     "name": "stdout",
     "output_type": "stream",
     "text": [
      "-----------  -----------\n",
      "Bruce        Ernst\n",
      "David        Austin\n",
      "Valli        Pataballa\n",
      "Diana        Lorentz\n",
      "Daniel       Faviet\n",
      "John         Chen\n",
      "Ismael       Sciarra\n",
      "Jose Manuel  Urman\n",
      "Luis         Popp\n",
      "Alexander    Khoo\n",
      "Shelli       Baida\n",
      "Sigal        Tobias\n",
      "Guy          Himuro\n",
      "Karen        Colmenares\n",
      "Julia        Nayer\n",
      "Irene        Mikkilineni\n",
      "James        Landry\n",
      "Steven       Markle\n",
      "Laura        Bissot\n",
      "Mozhe        Atkinson\n",
      "James        Marlow\n",
      "TJ           Olson\n",
      "Jason        Mallin\n",
      "Michael      Rogers\n",
      "Ki           Gee\n",
      "Hazel        Philtanker\n",
      "Renske       Ladwig\n",
      "Stephen      Stiles\n",
      "John         Seo\n",
      "Joshua       Patel\n",
      "Trenna       Rajs\n",
      "Curtis       Davies\n",
      "Randall      Matos\n",
      "Peter        Vargas\n",
      "Peter        Tucker\n",
      "David        Bernstein\n",
      "Peter        Hall\n",
      "Christopher  Olsen\n",
      "Nanette      Cambrault\n",
      "Oliver       Tuvault\n",
      "Janette      King\n",
      "Patrick      Sully\n",
      "Allan        McEwen\n",
      "Lindsey      Smith\n",
      "Louise       Doran\n",
      "Sarath       Sewall\n",
      "Clara        Vishney\n",
      "Danielle     Greene\n",
      "Mattea       Marvins\n",
      "David        Lee\n",
      "Sundar       Ande\n",
      "Amit         Banda\n",
      "Lisa         Ozer\n",
      "Harrison     Bloom\n",
      "Tayler       Fox\n",
      "William      Smith\n",
      "Elizabeth    Bates\n",
      "Sundita      Kumar\n",
      "Ellen        Abel\n",
      "Alyssa       Hutton\n",
      "Jonathon     Taylor\n",
      "Jack         Livingston\n",
      "Kimberely    Grant\n",
      "Charles      Johnson\n",
      "Winston      Taylor\n",
      "Jean         Fleaur\n",
      "Martha       Sullivan\n",
      "Girard       Geoni\n",
      "Nandita      Sarchand\n",
      "Alexis       Bull\n",
      "Julia        Dellinger\n",
      "Anthony      Cabrio\n",
      "Kelly        Chung\n",
      "Jennifer     Dilly\n",
      "Timothy      Gates\n",
      "Randall      Perkins\n",
      "Sarah        Bell\n",
      "Britney      Everett\n",
      "Samuel       McCain\n",
      "Vance        Jones\n",
      "Alana        Walsh\n",
      "Kevin        Feeney\n",
      "Donald       OConnell\n",
      "Douglas      Grant\n",
      "Jennifer     Whalen\n",
      "Pat          Fay\n",
      "Susan        Mavris\n",
      "Hermann      Baer\n",
      "William      Gietz\n",
      "-----------  -----------\n"
     ]
    }
   ],
   "source": [
    "cur.execute(\"SELECT b.first_name,b.last_name FROM employees b WHERE NOT EXISTS (SELECT 'X' FROM employees a WHERE a.manager_id = b.employee_id);\")\n",
    "print(tabulate.tabulate(cur.fetchall()))"
   ]
  },
  {
   "cell_type": "markdown",
   "metadata": {},
   "source": [
    "+ Write a query to display the employee ID, first name, last names, salary of all employees whose salary is above average for their departments."
   ]
  },
  {
   "cell_type": "code",
   "execution_count": 148,
   "metadata": {},
   "outputs": [
    {
     "name": "stdout",
     "output_type": "stream",
     "text": [
      "---  -----------  ----------  -----\n",
      "100  Steven       King        24000\n",
      "101  Neena        Kochhar     17000\n",
      "102  Lex          De Haan     17000\n",
      "103  Alexander    Hunold       9000\n",
      "108  Nancy        Greenberg   12000\n",
      "109  Daniel       Faviet       9000\n",
      "110  John         Chen         8200\n",
      "111  Ismael       Sciarra      7700\n",
      "112  Jose Manuel  Urman        7800\n",
      "114  Den          Raphaely    11000\n",
      "120  Matthew      Weiss        8000\n",
      "121  Adam         Fripp        8200\n",
      "122  Payam        Kaufling     7900\n",
      "145  John         Russell     14000\n",
      "146  Karen        Partners    13500\n",
      "147  Alberto      Errazuriz   12000\n",
      "148  Gerald       Cambrault   11000\n",
      "149  Eleni        Zlotkey     10500\n",
      "150  Peter        Tucker      10000\n",
      "151  David        Bernstein    9500\n",
      "152  Peter        Hall         9000\n",
      "153  Christopher  Olsen        8000\n",
      "154  Nanette      Cambrault    7500\n",
      "156  Janette      King        10000\n",
      "157  Patrick      Sully        9500\n",
      "158  Allan        McEwen       9000\n",
      "159  Lindsey      Smith        8000\n",
      "160  Louise       Doran        7500\n",
      "162  Clara        Vishney     10500\n",
      "163  Danielle     Greene       9500\n",
      "164  Mattea       Marvins      7200\n",
      "168  Lisa         Ozer        11500\n",
      "169  Harrison     Bloom       10000\n",
      "170  Tayler       Fox          9600\n",
      "171  William      Smith        7400\n",
      "172  Elizabeth    Bates        7300\n",
      "174  Ellen        Abel        11000\n",
      "175  Alyssa       Hutton       8800\n",
      "176  Jonathon     Taylor       8600\n",
      "177  Jack         Livingston   8400\n",
      "201  Michael      Hartstein   13000\n",
      "204  Hermann      Baer        10000\n",
      "205  Shelley      Higgins     12000\n",
      "206  William      Gietz        8300\n",
      "---  -----------  ----------  -----\n"
     ]
    }
   ],
   "source": [
    "cur.execute(\"SELECT employee_id,first_name,last_name,salary FROM employees where salary > (select avg(salary) from employees group by department_id);\")\n",
    "print(tabulate.tabulate(cur.fetchall()))"
   ]
  },
  {
   "cell_type": "markdown",
   "metadata": {},
   "source": [
    "+ Write a query to find the 5th maximum salary in the employees table."
   ]
  },
  {
   "cell_type": "code",
   "execution_count": 152,
   "metadata": {},
   "outputs": [
    {
     "name": "stdout",
     "output_type": "stream",
     "text": [
      "-----\n",
      "13000\n",
      "-----\n"
     ]
    }
   ],
   "source": [
    "#Não entendi como fazer;\n",
    "cur.execute(\"SELECT DISTINCT salary FROM employees e1 WHERE 5 = (SELECT COUNT(DISTINCT salary) FROM employees  e2 WHERE e2.salary >= e1.salary);\")\n",
    "print(tabulate.tabulate(cur.fetchall()))"
   ]
  },
  {
   "cell_type": "markdown",
   "metadata": {},
   "source": [
    "+ Write a query to find the 4th minimum salary in the employees table."
   ]
  },
  {
   "cell_type": "code",
   "execution_count": 162,
   "metadata": {},
   "outputs": [
    {
     "name": "stdout",
     "output_type": "stream",
     "text": [
      "----\n",
      "2500\n",
      "----\n",
      "----\n",
      "2100\n",
      "2200\n",
      "2400\n",
      "----\n"
     ]
    }
   ],
   "source": [
    "#Não entendi como fazer;\n",
    "cur.execute(\"SELECT DISTINCT salary FROM employees e1 WHERE 4 = (SELECT COUNT(DISTINCT salary) FROM employees  e2 WHERE e2.salary <= e1.salary);\")\n",
    "print(tabulate.tabulate(cur.fetchall()))\n"
   ]
  },
  {
   "cell_type": "markdown",
   "metadata": {},
   "source": [
    "+ Write a query to select last 10 records from a table."
   ]
  },
  {
   "cell_type": "code",
   "execution_count": 158,
   "metadata": {},
   "outputs": [
    {
     "name": "stdout",
     "output_type": "stream",
     "text": [
      "---  --------  ---------  --------  ------------  ----------  ----------  -----  -  ---  ---\n",
      "197  Kevin     Feeney     KFEENEY   650.507.9822  1987-09-22  SH_CLERK     3000  0  124   50\n",
      "198  Donald    OConnell   DOCONNEL  650.507.9833  1987-09-23  SH_CLERK     2600  0  124   50\n",
      "199  Douglas   Grant      DGRANT    650.507.9844  1987-09-24  SH_CLERK     2600  0  124   50\n",
      "200  Jennifer  Whalen     JWHALEN   515.123.4444  1987-09-25  AD_ASST      4400  0  101   10\n",
      "201  Michael   Hartstein  MHARTSTE  515.123.5555  1987-09-26  MK_MAN      13000  0  100   20\n",
      "202  Pat       Fay        PFAY      603.123.6666  1987-09-27  MK_REP       6000  0  201   20\n",
      "203  Susan     Mavris     SMAVRIS   515.123.7777  1987-09-28  HR_REP       6500  0  101   40\n",
      "204  Hermann   Baer       HBAER     515.123.8888  1987-09-29  PR_REP      10000  0  101   70\n",
      "205  Shelley   Higgins    SHIGGINS  515.123.8080  1987-09-30  AC_MGR      12000  1  101  110\n",
      "206  William   Gietz      WGIETZ    515.123.8181  1987-10-01  AC_ACCOUNT   8300  1  205  110\n",
      "---  --------  ---------  --------  ------------  ----------  ----------  -----  -  ---  ---\n"
     ]
    }
   ],
   "source": [
    "cur.execute(\"SELECT * FROM (SELECT * FROM employees ORDER BY employee_id DESC LIMIT 10) sub ORDER BY employee_id ASC;\")\n",
    "print(tabulate.tabulate(cur.fetchall()))"
   ]
  },
  {
   "cell_type": "markdown",
   "metadata": {},
   "source": [
    "+ Write a query to list department number, name for all the departments in which there are no employees in the department."
   ]
  },
  {
   "cell_type": "code",
   "execution_count": 163,
   "metadata": {},
   "outputs": [
    {
     "name": "stdout",
     "output_type": "stream",
     "text": [
      "---  --------------------    ----\n",
      "120  Treasury                1700\n",
      "130  Corporate Tax           1700\n",
      "140  Control And Credit      1700\n",
      "150  Shareholder Services    1700\n",
      "160  Benefits                1700\n",
      "170  Manufacturing           1700\n",
      "180  Construction            1700\n",
      "190  Contracting             1700\n",
      "200  Operations              1700\n",
      "210  IT Support              1700\n",
      "220  NOC                     1700\n",
      "230  IT Helpdesk             1700\n",
      "240  Government Sales        1700\n",
      "250  Retail Sales            1700\n",
      "260  Recruiting              1700\n",
      "270  Payroll                 1700\n",
      "---  --------------------    ----\n"
     ]
    }
   ],
   "source": [
    "cur.execute(\"SELECT * FROM departments WHERE department_id NOT IN (select department_id FROM employees);\")\n",
    "print(tabulate.tabulate(cur.fetchall()))"
   ]
  },
  {
   "cell_type": "markdown",
   "metadata": {},
   "source": [
    "+ Write a query to find the addresses (location_id, street_address, city, state_province, country_name) of all the departments."
   ]
  },
  {
   "cell_type": "code",
   "execution_count": 166,
   "metadata": {},
   "outputs": [
    {
     "name": "stdout",
     "output_type": "stream",
     "text": [
      "----  ----------------------------------------  -------------------  -----------------  ------------------------\n",
      "1000  1297 Via Cola di Rie                      Roma                                    Italy\n",
      "1100  93091 Calle della Testa                   Venice                                  Italy\n",
      "1200  2017 Shinjuku-ku                          Tokyo                Tokyo Prefecture   Japan\n",
      "1300  9450 Kamiya-cho                           Hiroshima                               Japan\n",
      "1400  2014 Jabberwocky Rd                       Southlake            Texas              United States of America\n",
      "1500  2011 Interiors Blvd                       South San Francisco  California         United States of America\n",
      "1600  2007 Zagora St                            South Brunswick      New Jersey         United States of America\n",
      "1700  2004 Charade Rd                           Seattle              Washington         United States of America\n",
      "1800  147 Spadina Ave                           Toronto              Ontario            Canada\n",
      "1900  6092 Boxwood St                           Whitehorse           Yukon              Canada\n",
      "2000  40-5-12 Laogianggen                       Beijing                                 China\n",
      "2100  1298 Vileparle (E)                        Bombay               Maharashtra        India\n",
      "2200  12-98 Victoria Street                     Sydney               New South Wales    Australia\n",
      "2300  198 Clementi North                        Singapore                               Singapore\n",
      "2400  8204 Arthur St                            London                                  United Kingdom\n",
      "2500  Magdalen Centre, The Oxford Science Park  Oxford               Oxford             United Kingdom\n",
      "2600  9702 Chester Road                         Stretford            Manchester         United Kingdom\n",
      "2700  Schwanthalerstr. 7031                     Munich               Bavaria            Germany\n",
      "2800  Rua Frei Caneca 1360                      Sao Paulo            Sao Paulo          Brazil\n",
      "2900  20 Rue des Corps-Saints                   Geneva               Geneve             Switzerland\n",
      "3000  Murtenstrasse 921                         Bern                 BE                 Switzerland\n",
      "3100  Pieter Breughelstraat 837                 Utrecht              Utrecht            Netherlands\n",
      "3200  Mariano Escobedo 9991                     Mexico City          Distrito Federal,  Mexico\n",
      "----  ----------------------------------------  -------------------  -----------------  ------------------------\n"
     ]
    }
   ],
   "source": [
    "cur.execute(\"SELECT location_id, street_address, city, state_province, country_name FROM locations NATURAL JOIN countries;\")\n",
    "print(tabulate.tabulate(cur.fetchall()))"
   ]
  },
  {
   "cell_type": "markdown",
   "metadata": {},
   "source": [
    "+ Write a query to find the names (first_name, last name), department ID and the name of all the employees."
   ]
  },
  {
   "cell_type": "code",
   "execution_count": null,
   "metadata": {},
   "outputs": [],
   "source": []
  },
  {
   "cell_type": "markdown",
   "metadata": {},
   "source": [
    "+ Write a query to find the employee id, name (last_name) along with their manager_id, manager name (last_name)."
   ]
  },
  {
   "cell_type": "code",
   "execution_count": null,
   "metadata": {},
   "outputs": [],
   "source": []
  },
  {
   "cell_type": "markdown",
   "metadata": {},
   "source": [
    "+ Write a query to find the names (first_name, last_name) and hire date of the employees who were hired after 'Jones'."
   ]
  },
  {
   "cell_type": "code",
   "execution_count": null,
   "metadata": {},
   "outputs": [],
   "source": []
  },
  {
   "cell_type": "markdown",
   "metadata": {},
   "source": [
    "+ Write a query to get the department name and number of employees in the department."
   ]
  },
  {
   "cell_type": "code",
   "execution_count": null,
   "metadata": {},
   "outputs": [],
   "source": []
  },
  {
   "cell_type": "markdown",
   "metadata": {},
   "source": [
    "+ Write a query to find the employee ID, job title number of days between ending date and starting date for all jobs in department 90 from job history."
   ]
  },
  {
   "cell_type": "code",
   "execution_count": null,
   "metadata": {},
   "outputs": [],
   "source": []
  },
  {
   "cell_type": "markdown",
   "metadata": {},
   "source": [
    "+ Write a query to display the department ID, department name, and manager first name."
   ]
  },
  {
   "cell_type": "code",
   "execution_count": null,
   "metadata": {},
   "outputs": [],
   "source": []
  },
  {
   "cell_type": "markdown",
   "metadata": {},
   "source": [
    "+ Write a query to display the department name, manager name, and city. "
   ]
  },
  {
   "cell_type": "code",
   "execution_count": null,
   "metadata": {},
   "outputs": [],
   "source": []
  },
  {
   "cell_type": "markdown",
   "metadata": {},
   "source": [
    "+ Write a query to display the job title and average salary of employees. "
   ]
  },
  {
   "cell_type": "code",
   "execution_count": null,
   "metadata": {},
   "outputs": [],
   "source": []
  },
  {
   "cell_type": "markdown",
   "metadata": {},
   "source": [
    "+ Write a query to to display job title, employee name, and the difference between the salary of the employee and minimum salary for the job."
   ]
  },
  {
   "cell_type": "code",
   "execution_count": null,
   "metadata": {},
   "outputs": [],
   "source": []
  },
  {
   "cell_type": "markdown",
   "metadata": {},
   "source": [
    "+ Write a query to display the job history that was done by any employee who is currently drawing more than 10000 of salary."
   ]
  },
  {
   "cell_type": "code",
   "execution_count": null,
   "metadata": {},
   "outputs": [],
   "source": []
  },
  {
   "cell_type": "code",
   "execution_count": null,
   "metadata": {},
   "outputs": [],
   "source": []
  },
  {
   "cell_type": "code",
   "execution_count": null,
   "metadata": {},
   "outputs": [],
   "source": []
  }
 ],
 "metadata": {
  "kernelspec": {
   "display_name": "Python 3",
   "language": "python",
   "name": "python3"
  },
  "language_info": {
   "codemirror_mode": {
    "name": "ipython",
    "version": 3
   },
   "file_extension": ".py",
   "mimetype": "text/x-python",
   "name": "python",
   "nbconvert_exporter": "python",
   "pygments_lexer": "ipython3",
   "version": "3.8.5"
  }
 },
 "nbformat": 4,
 "nbformat_minor": 4
}
